{
 "cells": [
  {
   "cell_type": "code",
   "execution_count": 2,
   "metadata": {},
   "outputs": [],
   "source": [
    "# Import Libraries\n",
    "import pandas as pd \n",
    "import numpy as np\n",
    "import matplotlib.pyplot as plt\n",
    "import seaborn as sns\n",
    "from sklearn.metrics import confusion_matrix\n",
    "from sklearn.model_selection import train_test_split\n",
    "from sklearn.preprocessing import StandardScaler\n",
    "from sklearn.linear_model import LogisticRegression\n",
    "from sklearn.metrics import classification_report\n",
    "from sklearn.metrics import accuracy_score\n",
    "from imblearn.over_sampling import SMOTE\n",
    "from sklearn.utils import class_weight\n",
    "from sklearn.neighbors import KNeighborsClassifier\n",
    "from sklearn.metrics import precision_score, recall_score, f1_score\n",
    "from sklearn.model_selection import GridSearchCV\n",
    "import warnings\n",
    "warnings.filterwarnings(\"ignore\")\n",
    "from sklearn.svm import SVC"
   ]
  },
  {
   "cell_type": "code",
   "execution_count": 3,
   "metadata": {},
   "outputs": [],
   "source": [
    "# Import Dataset\n",
    "df = pd.read_csv('bmi.csv')"
   ]
  },
  {
   "cell_type": "markdown",
   "metadata": {},
   "source": [
    "### **Data Exploration and Cleanup** ###\n",
    "Conduct initial data exploration to understand dataset characteristics.\n",
    "Clean the data by handling missing values or anomalies."
   ]
  },
  {
   "cell_type": "code",
   "execution_count": 19,
   "metadata": {},
   "outputs": [
    {
     "name": "stdout",
     "output_type": "stream",
     "text": [
      "   Gender  Height  Weight  Index\n",
      "0    Male     174      96      4\n",
      "1    Male     189      87      2\n",
      "2  Female     185     110      4\n",
      "3  Female     195     104      3\n",
      "4    Male     149      61      3\n",
      "##################################################\n",
      "           Height      Weight       Index\n",
      "count  500.000000  500.000000  500.000000\n",
      "mean   169.944000  106.000000    3.748000\n",
      "std     16.375261   32.382607    1.355053\n",
      "min    140.000000   50.000000    0.000000\n",
      "25%    156.000000   80.000000    3.000000\n",
      "50%    170.500000  106.000000    4.000000\n",
      "75%    184.000000  136.000000    5.000000\n",
      "max    199.000000  160.000000    5.000000\n",
      "##################################################\n",
      "<class 'pandas.core.frame.DataFrame'>\n",
      "RangeIndex: 500 entries, 0 to 499\n",
      "Data columns (total 4 columns):\n",
      " #   Column  Non-Null Count  Dtype \n",
      "---  ------  --------------  ----- \n",
      " 0   Gender  500 non-null    object\n",
      " 1   Height  500 non-null    int64 \n",
      " 2   Weight  500 non-null    int64 \n",
      " 3   Index   500 non-null    int64 \n",
      "dtypes: int64(3), object(1)\n",
      "memory usage: 15.8+ KB\n",
      "None\n",
      "##################################################\n",
      "Gender    0\n",
      "Height    0\n",
      "Weight    0\n",
      "Index     0\n",
      "dtype: int64\n",
      "##################################################\n",
      "Gender    object\n",
      "Height     int64\n",
      "Weight     int64\n",
      "Index      int64\n",
      "dtype: object\n"
     ]
    }
   ],
   "source": [
    "# see the dataset as dataframe\n",
    "print(df.head(5))\n",
    "print(\"#\" * 50)\n",
    "\n",
    "# See the description of dataset\n",
    "print(df.describe())\n",
    "print(\"#\" * 50)\n",
    "\n",
    "# see the info of data\n",
    "print(df.info())\n",
    "print(\"#\" * 50)\n",
    "\n",
    "# check for nulls\n",
    "print(df.isnull().sum())\n",
    "print(\"#\" * 50)\n",
    "\n",
    "# check data types\n",
    "print(df.dtypes)\n",
    "\n",
    "# "
   ]
  },
  {
   "cell_type": "markdown",
   "metadata": {},
   "source": [
    "##### **Visualize the Distribution of Feature and Target Label** #####"
   ]
  },
  {
   "cell_type": "code",
   "execution_count": 7,
   "metadata": {},
   "outputs": [
    {
     "name": "stdout",
     "output_type": "stream",
     "text": [
      "Gender\n",
      "Female    255\n",
      "Male      245\n",
      "Name: count, dtype: int64\n",
      "\n",
      "Gender category is almost uniformaly distributed. There is no high imbalance in data for gender feature.\n",
      "\n",
      "Index\n",
      "5    198\n",
      "4    130\n",
      "2     69\n",
      "3     68\n",
      "1     22\n",
      "0     13\n",
      "Name: count, dtype: int64\n",
      "\n",
      "Categorical target variable is not uniformaly distributed. There is high imbalance in the clasess of Index target variable.\n"
     ]
    }
   ],
   "source": [
    "print(df['Gender'].value_counts())\n",
    "print(\"\\nGender category is almost uniformaly distributed. There is no high imbalance in data for gender feature.\\n\")\n",
    "print(df['Index'].value_counts())\n",
    "print(\"\\nCategorical target variable is not uniformaly distributed. There is high imbalance in the clasess of Index target variable.\")"
   ]
  },
  {
   "cell_type": "markdown",
   "metadata": {},
   "source": [
    "The **distribution of the categorical target variable (Index/BMI)** is not uniform, indicating an imbalance among the classes of the Index variable."
   ]
  },
  {
   "cell_type": "markdown",
   "metadata": {},
   "source": [
    "### **Exploratory Data Analysis (EDA)** ####\n",
    "Analyze the distribution of BMI categories and explore the relationship between gender,\n",
    "height, weight, and BMI category.\n",
    "Investigate gender-specific distributions for height, weight, and BMI categories."
   ]
  },
  {
   "cell_type": "code",
   "execution_count": 10,
   "metadata": {},
   "outputs": [
    {
     "data": {
      "image/png": "[encoded data removed]",
      "text/plain": [
       "<Figure size 400x200 with 1 Axes>"
      ]
     },
     "metadata": {},
     "output_type": "display_data"
    }
   ],
   "source": [
    "fig, axs = plt.subplots(1, 1, figsize=(4, 2))\n",
    "\n",
    "# Visualize the distribution of BMI categories (Index)\n",
    "sns.countplot(x='Index', data=df)\n",
    "plt.title('Distribution of BMI Categories')\n",
    "plt.ylabel('Count')\n",
    "plt.xlabel('BMI Category (Index)')\n",
    "plt.show()"
   ]
  },
  {
   "cell_type": "code",
   "execution_count": 11,
   "metadata": {},
   "outputs": [
    {
     "data": {
      "image/png": "[encoded data removed]",
      "text/plain": [
       "<Figure size 800x400 with 2 Axes>"
      ]
     },
     "metadata": {},
     "output_type": "display_data"
    }
   ],
   "source": [
    "# List of features to plot\n",
    "features = ['Height', 'Weight']\n",
    "fig, axs = plt.subplots(1, 2, figsize=(8, 4))\n",
    "axs = axs.flatten()\n",
    "\n",
    "# Loop through each feature and plot its distribution\n",
    "for i, feature in enumerate(features):\n",
    "    sns.histplot(df[feature], bins=20, kde=True, color='orangered', ax=axs[i])\n",
    "    axs[i].set_title(f'{feature} Distribution')\n",
    "    \n",
    "# Show plot\n",
    "plt.tight_layout()\n",
    "plt.show()"
   ]
  },
  {
   "cell_type": "code",
   "execution_count": 12,
   "metadata": {},
   "outputs": [
    {
     "data": {
      "text/plain": [
       "<Axes: >"
      ]
     },
     "execution_count": 12,
     "metadata": {},
     "output_type": "execute_result"
    },
    {
     "data": {
      "image/png": "[encoded data removed]",
      "text/plain": [
       "<Figure size 600x300 with 2 Axes>"
      ]
     },
     "metadata": {},
     "output_type": "display_data"
    }
   ],
   "source": [
    "correlation_matrix = df.drop(columns=['Gender']).corr()\n",
    "# Show the correlation plot heatmap\n",
    "fig, ax = plt.subplots(figsize = (6,3))\n",
    "sns.heatmap(correlation_matrix, annot=True, annot_kws = {'size': 12} )"
   ]
  },
  {
   "cell_type": "markdown",
   "metadata": {},
   "source": [
    "##### **Box plot to visualize relationship between Gender, Height, Weight and Index** #####"
   ]
  },
  {
   "cell_type": "code",
   "execution_count": 13,
   "metadata": {},
   "outputs": [
    {
     "data": {
      "image/png": "[encoded data removed]",
      "text/plain": [
       "<Figure size 800x400 with 2 Axes>"
      ]
     },
     "metadata": {},
     "output_type": "display_data"
    }
   ],
   "source": [
    "# List of features\n",
    "features = ['Height', 'Weight']\n",
    "fig, axs = plt.subplots(1, 2, figsize=(8, 4))\n",
    "axs = axs.flatten()\n",
    "\n",
    "# Iterate over features to create a boxplot for each feature\n",
    "for i, feature in enumerate(features):\n",
    "    # Create a Seaborn boxplot\n",
    "    sns.boxplot(x='Gender', y=feature, data=df, ax=axs[i])\n",
    "    \n",
    "    # Set titles and labels\n",
    "    axs[i].set_title(f'{feature} by Gender')\n",
    "    axs[i].set_xlabel('Gender')\n",
    "    axs[i].set_ylabel(feature)\n",
    "\n",
    "# Show plot\n",
    "plt.tight_layout()\n",
    "plt.show()"
   ]
  },
  {
   "cell_type": "code",
   "execution_count": 14,
   "metadata": {},
   "outputs": [
    {
     "data": {
      "image/png": "[encoded data removed]",
      "text/plain": [
       "<Figure size 800x400 with 2 Axes>"
      ]
     },
     "metadata": {},
     "output_type": "display_data"
    }
   ],
   "source": [
    "# List of features\n",
    "features = ['Height', 'Weight']\n",
    "fig, axs = plt.subplots(1, 2, figsize=(8, 4))\n",
    "axs = axs.flatten()\n",
    "\n",
    "# Iterate over features to create a boxplot for each Index\n",
    "for i, feature in enumerate(features):\n",
    "    # Create a Seaborn boxplot\n",
    "    sns.boxplot(x='Index', y='Height', data=df, ax=axs[i])\n",
    "    \n",
    "    # Set titles and labels\n",
    "    axs[i].set_title(f'{feature} Distribution by Index')\n",
    "    axs[i].set_xlabel('BMI Classes (Index)')\n",
    "    axs[i].set_ylabel(feature)\n",
    "\n",
    "# Show plot\n",
    "plt.tight_layout()\n",
    "plt.show()"
   ]
  },
  {
   "cell_type": "markdown",
   "metadata": {},
   "source": [
    "Above boxplot shows that there is unusual datapoint in BMI for index '0' for Height and Weight. This data point is below whisker and in a clear outlier zone. This datapoint is in the range more suitable for Index 2,3,4, or 5. "
   ]
  },
  {
   "cell_type": "code",
   "execution_count": 15,
   "metadata": {},
   "outputs": [
    {
     "data": {
      "image/png": "[encoded data removed]",
      "text/plain": [
       "<Figure size 1200x1400 with 2 Axes>"
      ]
     },
     "metadata": {},
     "output_type": "display_data"
    }
   ],
   "source": [
    "# List of features\n",
    "features = ['Height', 'Weight']\n",
    "fig, axs = plt.subplots(2, 1, figsize=(12, 14))\n",
    "axs = axs.flatten()\n",
    "\n",
    "# Iterate over features to create a boxplot for each\n",
    "for i, feature in enumerate(features):\n",
    "    # Create a Seaborn boxplot\n",
    "    # sns.boxplot(x='Gender', y=feature, data=df, ax=axs[i])\n",
    "    sns.boxplot(x='Index', y=feature, hue='Gender', data=df, ax=axs[i])\n",
    "    \n",
    "    # Set titles and labels\n",
    "    axs[i].set_title(f'{feature} Distribution by Index and Gender')\n",
    "    axs[i].set_xlabel('BMI Distribution (Index)')\n",
    "    axs[i].set_ylabel(feature)\n",
    "\n",
    "# Show plot\n",
    "plt.tight_layout()\n",
    "plt.show()\n"
   ]
  },
  {
   "cell_type": "markdown",
   "metadata": {},
   "source": [
    "### **Data Preprocessing** ###\n",
    "Implement strategies to manage imbalanced data, such as oversampling,\n",
    "undersampling, or applying SMOTE.\n",
    "Normalize or standardize height and weight features for better model performance."
   ]
  },
  {
   "cell_type": "markdown",
   "metadata": {},
   "source": [
    "The purpose for **data preprocessing** is to make data in usable format for model training.\n",
    "\n",
    "Some of the required steps are as follows:\n",
    "1. **One-hot encoding**: Perform one-hot encoding to convert categorical column Gender to numerical format.\n",
    "2. **Feature Scaling**: Use normalization or standarization to perform feature scaling.\n",
    "\n",
    "Target categorical variable Index contains **imbalance data**. Such data gives misleading model by giving high accuracy to some categories and low prediction accuracy to other category. So to reduce such situation data must be balanced for all categories of target variable.\n",
    "\n",
    "Three techniques can be performed to handle unbalance data are:\n",
    "**Using Oversampling** ,\n",
    "**Under Sampling**,\n",
    "**SMOTE**"
   ]
  },
  {
   "cell_type": "code",
   "execution_count": 16,
   "metadata": {},
   "outputs": [
    {
     "name": "stdout",
     "output_type": "stream",
     "text": [
      "   Height  Weight  Index  Gender_Female  Gender_Male\n",
      "0     174      96      4              0            1\n",
      "1     189      87      2              0            1\n",
      "2     185     110      4              1            0\n",
      "3     195     104      3              1            0\n",
      "4     149      61      3              0            1\n"
     ]
    }
   ],
   "source": [
    "# Convert 'Gender' to numerical format using pandas get_dummies(for one-hot encoding)\n",
    "df_encoded = pd.get_dummies(df, columns=['Gender']).astype(int)\n",
    "print(df_encoded.head(5))"
   ]
  },
  {
   "cell_type": "markdown",
   "metadata": {},
   "source": [
    "### Using **Logistic Regression** ###"
   ]
  },
  {
   "cell_type": "code",
   "execution_count": null,
   "metadata": {},
   "outputs": [],
   "source": [
    "# Split features (X) and target (y)\n",
    "X_g = df_encoded[['Height', 'Weight', 'Gender_Female', 'Gender_Male']]  \n",
    "y_g = df_encoded['Index']\n",
    "\n",
    "X_train_g, X_test_g, y_train_g, y_test_g = train_test_split(X_g, y_g, test_size=0.2, random_state=42)\n",
    "\n",
    "scaler = StandardScaler()\n",
    "X_train_g = scaler.fit_transform(X_train_g)\n",
    "X_test_g = scaler.transform(X_test_g)"
   ]
  },
  {
   "cell_type": "markdown",
   "metadata": {},
   "source": [
    "All the model building approach uses **GridSearchCV** to get the best model that provide high accuray. \n",
    "GridSearch perrform hyperparameter tuning and achieve the best parameter setting to give an optimize \n",
    "model. It uses cross validation of 5 folds where it train and validate hyperparameter. Dictionary of \n",
    "parameter is provided from where model select the best combination.**"
   ]
  },
  {
   "cell_type": "code",
   "execution_count": 66,
   "metadata": {},
   "outputs": [],
   "source": [
    "model = LogisticRegression()\n",
    "\n",
    "param_grid_notBalanced = [\n",
    "    {'solver': ['lbfgs'], 'penalty': ['l2'], 'multi_class':['ovr', 'multinomial'], 'C': [0.01, 0.1, 1, 10, 100], 'max_iter': [1000, 1100, 1200], 'class_weight': [None]},\n",
    "    {'solver': ['liblinear'], 'penalty': ['l1', 'l2'], 'multi_class':['ovr', 'multinomial'], 'C': [0.01, 0.1, 1, 10, 100], 'max_iter': [1000, 1100, 1200], 'class_weight': [None]},\n",
    "    {'solver': ['saga'], 'penalty': ['l1', 'l2', 'elasticnet'], 'multi_class':['ovr', 'multinomial'], 'C': [0.01, 0.1, 1, 10, 100], 'max_iter': [1000, 1100, 1200], 'class_weight': [None]}\n",
    "]\n",
    "\n",
    "param_grid_balanced = [\n",
    "    {'solver': ['lbfgs'], 'penalty': ['l2'], 'multi_class':['ovr', 'multinomial'], 'C': [0.01, 0.1, 1, 10, 100], 'max_iter': [1000, 1100, 1200], 'class_weight': ['balanced']},\n",
    "    {'solver': ['liblinear'], 'penalty': ['l1', 'l2'], 'multi_class':['ovr', 'multinomial'], 'C': [0.01, 0.1, 1, 10, 100], 'max_iter': [1000, 1100, 1200], 'class_weight': ['balanced']},\n",
    "    {'solver': ['saga'], 'penalty': ['l1', 'l2', 'elasticnet'], 'multi_class':['ovr', 'multinomial'], 'C': [0.01, 0.1, 1, 10, 100], 'max_iter': [1000, 1100, 1200], 'class_weight': ['balanced']}\n",
    "]\n",
    "\n",
    "# Optimized model using hyperparameter tuning\n",
    "grid_search_notBalanced = GridSearchCV(model, param_grid_notBalanced, cv=5, scoring='accuracy', verbose=1)\n",
    "grid_search_balanceed = GridSearchCV(model, param_grid_balanced, cv=5, scoring='accuracy', verbose=1)"
   ]
  },
  {
   "cell_type": "markdown",
   "metadata": {},
   "source": [
    "Model Building **without balanced class weight** "
   ]
  },
  {
   "cell_type": "code",
   "execution_count": null,
   "metadata": {},
   "outputs": [
    {
     "name": "stdout",
     "output_type": "stream",
     "text": [
      "Fitting 5 folds for each of 180 candidates, totalling 900 fits\n",
      "Best parameters: {'C': 10, 'class_weight': None, 'max_iter': 1000, 'multi_class': 'multinomial', 'penalty': 'l1', 'solver': 'saga'}\n",
      "Best cross-validated score: 0.9225\n",
      "Accuracy on test set: 0.92\n",
      "Precision (micro): 0.92\n",
      "Recall (micro): 0.92\n",
      "F1 Score (micro): 0.92\n",
      "Confusion Matrix:\n",
      " [[ 1  0  0  0  0  0]\n",
      " [ 0  4  0  0  0  0]\n",
      " [ 0  1 17  0  0  0]\n",
      " [ 0  0  1  7  0  0]\n",
      " [ 0  0  0  3 26  1]\n",
      " [ 0  0  0  0  2 37]]\n",
      "              precision    recall  f1-score   support\n",
      "\n",
      "           0       1.00      1.00      1.00         1\n",
      "           1       0.80      1.00      0.89         4\n",
      "           2       0.94      0.94      0.94        18\n",
      "           3       0.70      0.88      0.78         8\n",
      "           4       0.93      0.87      0.90        30\n",
      "           5       0.97      0.95      0.96        39\n",
      "\n",
      "    accuracy                           0.92       100\n",
      "   macro avg       0.89      0.94      0.91       100\n",
      "weighted avg       0.93      0.92      0.92       100\n",
      "\n"
     ]
    }
   ],
   "source": [
    "# Using optimized model from GridSearchCV to fit the training data\n",
    "grid_search_notBalanced.fit(X_train_g, y_train_g)\n",
    "\n",
    "# Display the best parameters and score\n",
    "print(\"Best parameters:\", grid_search_notBalanced.best_params_)\n",
    "print(\"Best cross-validated score:\", grid_search_notBalanced.best_score_)\n",
    "\n",
    "# Evaluate the best model found by GridSearchCV on the test set\n",
    "best_model = grid_search_notBalanced.best_estimator_\n",
    "predictions = best_model.predict(X_test_g)\n",
    "print(\"Accuracy on test set:\", accuracy_score(y_test_g, predictions))\n",
    "\n",
    "# Calculate precision, recall, and F1 score\n",
    "precision = precision_score(y_test_g, predictions, average='micro')\n",
    "recall = recall_score(y_test_g, predictions, average='micro')\n",
    "f1 = f1_score(y_test_g, predictions, average='micro')\n",
    "\n",
    "# Output the precision, recall, and F1 score\n",
    "print(f\"Precision (micro): {precision}\")\n",
    "print(f\"Recall (micro): {recall}\")\n",
    "print(f\"F1 Score (micro): {f1}\")\n",
    "\n",
    "print(\"Confusion Matrix:\\n\", confusion_matrix(y_test_g, predictions))\n",
    "\n",
    "# Evaluate the model performance\n",
    "print(classification_report(y_test_g, predictions))"
   ]
  },
  {
   "cell_type": "markdown",
   "metadata": {},
   "source": [
    "Model Building **with balanced class weight** "
   ]
  },
  {
   "cell_type": "code",
   "execution_count": null,
   "metadata": {},
   "outputs": [
    {
     "data": {
      "text/plain": [
       "array([5.55555556, 3.7037037 , 1.30718954, 1.11111111, 0.66666667,\n",
       "       0.41928721])"
      ]
     },
     "execution_count": 32,
     "metadata": {},
     "output_type": "execute_result"
    }
   ],
   "source": [
    "\n",
    "sklearn_weights = class_weight.compute_class_weight(class_weight='balanced', classes=np.unique(y_train_g), y=y_train_g)\n",
    "sklearn_weights\n"
   ]
  },
  {
   "cell_type": "code",
   "execution_count": null,
   "metadata": {},
   "outputs": [
    {
     "name": "stdout",
     "output_type": "stream",
     "text": [
      "Fitting 5 folds for each of 180 candidates, totalling 900 fits\n",
      "Best parameters: {'C': 100, 'class_weight': 'balanced', 'max_iter': 1200, 'multi_class': 'multinomial', 'penalty': 'l1', 'solver': 'saga'}\n",
      "Best cross-validated score: 0.8925000000000001\n",
      "Accuracy on test set: 0.92\n",
      "Precision (micro): 0.86\n",
      "Recall (micro): 0.86\n",
      "F1 Score (micro): 0.86\n",
      "Confusion Matrix:\n",
      " [[ 1  0  0  0  0  0]\n",
      " [ 0  4  0  0  0  0]\n",
      " [ 0  1 17  0  0  0]\n",
      " [ 0  0  1  7  0  0]\n",
      " [ 0  0  0  3 26  1]\n",
      " [ 0  0  0  0  2 37]]\n",
      "              precision    recall  f1-score   support\n",
      "\n",
      "           0       0.33      1.00      0.50         1\n",
      "           1       0.60      0.75      0.67         4\n",
      "           2       1.00      0.78      0.88        18\n",
      "           3       0.53      1.00      0.70         8\n",
      "           4       0.92      0.77      0.84        30\n",
      "           5       0.97      0.95      0.96        39\n",
      "\n",
      "    accuracy                           0.86       100\n",
      "   macro avg       0.73      0.87      0.76       100\n",
      "weighted avg       0.91      0.86      0.87       100\n",
      "\n"
     ]
    }
   ],
   "source": [
    "# Using optimized model from GridSearchCV to fit the training data\n",
    "grid_search_balanceed.fit(X_train_g, y_train_g)\n",
    "\n",
    "# Display the best parameters and score\n",
    "print(\"Best parameters:\", grid_search_balanceed.best_params_)\n",
    "print(\"Best cross-validated score:\", grid_search_balanceed.best_score_)\n",
    "\n",
    "# Evaluate the best model found by GridSearchCV on the test set\n",
    "best_model = grid_search_balanceed.best_estimator_\n",
    "y_pred = best_model.predict(X_test_g)\n",
    "print(\"Accuracy on test set:\", accuracy_score(y_test_g, predictions))\n",
    "\n",
    "# Calculate precision, recall, and F1 score\n",
    "precision = precision_score(y_test_g, y_pred, average='micro')\n",
    "recall = recall_score(y_test_g, y_pred, average='micro')\n",
    "f1 = f1_score(y_test_g, y_pred, average='micro')\n",
    "\n",
    "# Output the precision, recall, and F1 score\n",
    "print(f\"Precision (micro): {precision}\")\n",
    "print(f\"Recall (micro): {recall}\")\n",
    "print(f\"F1 Score (micro): {f1}\")\n",
    "\n",
    "print(\"Confusion Matrix:\\n\", confusion_matrix(y_test_g, predictions))\n",
    "\n",
    "# Evaluate the model performance\n",
    "print(classification_report(y_test_g, y_pred))"
   ]
  },
  {
   "cell_type": "markdown",
   "metadata": {},
   "source": [
    "#### **Applying Sampling Techniques SMOTE** on train dataset and ensuring the class balance at BMI and Gender level ####"
   ]
  },
  {
   "cell_type": "markdown",
   "metadata": {},
   "source": [
    "Spliting the data into test and train and performing **SMOTE in train dataset.**"
   ]
  },
  {
   "cell_type": "code",
   "execution_count": 7,
   "metadata": {},
   "outputs": [],
   "source": [
    "X_train_s, X_test_s, y_train_s, y_test_s = train_test_split(X_g, y_g, test_size=0.2, random_state=42)\n",
    "\n",
    "smote = SMOTE(random_state=42)\n",
    "X_train_resampled_s, y_train_resampled_s = smote.fit_resample(X_train_s, y_train_s)"
   ]
  },
  {
   "cell_type": "markdown",
   "metadata": {},
   "source": [
    "**Ensuring classes are balanced**"
   ]
  },
  {
   "cell_type": "code",
   "execution_count": 36,
   "metadata": {},
   "outputs": [
    {
     "data": {
      "image/png": "[encoded data removed]",
      "text/plain": [
       "<Figure size 1200x600 with 2 Axes>"
      ]
     },
     "metadata": {},
     "output_type": "display_data"
    }
   ],
   "source": [
    "# Set up subplots\n",
    "fig, axs = plt.subplots(1, 2, figsize=(12, 6))\n",
    "\n",
    "# Plot the first histogram\n",
    "sns.histplot(y_train_s, ax=axs[0])\n",
    "axs[0].set_title(\"Before resampling y\")\n",
    "axs[0].set_xlabel(\"BMI (Index)\")\n",
    "axs[0].set_ylabel(\"Count\")\n",
    "\n",
    "# Plot the second histogram\n",
    "sns.histplot(y_train_resampled_s, ax=axs[1])\n",
    "axs[1].set_title(\"After resampling y\")\n",
    "axs[1].set_xlabel(\"BMI (Index)\")\n",
    "axs[1].set_ylabel(\"Count\")\n",
    "\n",
    "plt.tight_layout()\n",
    "plt.show()"
   ]
  },
  {
   "cell_type": "markdown",
   "metadata": {},
   "source": [
    "**Ensuring gender is balanced**"
   ]
  },
  {
   "cell_type": "code",
   "execution_count": 17,
   "metadata": {},
   "outputs": [
    {
     "ename": "NameError",
     "evalue": "name 'X_train_resampled_s' is not defined",
     "output_type": "error",
     "traceback": [
      "\u001b[1;31m---------------------------------------------------------------------------\u001b[0m",
      "\u001b[1;31mNameError\u001b[0m                                 Traceback (most recent call last)",
      "Cell \u001b[1;32mIn[17], line 1\u001b[0m\n\u001b[1;32m----> 1\u001b[0m \u001b[38;5;28mprint\u001b[39m(\u001b[38;5;124m\"\u001b[39m\u001b[38;5;124mShape of reshmpled data :\u001b[39m\u001b[38;5;124m\"\u001b[39m,X_train_resampled_s\u001b[38;5;241m.\u001b[39mshape, X_train_resampled_s\u001b[38;5;241m.\u001b[39mshape)\n\u001b[0;32m      3\u001b[0m \u001b[38;5;66;03m# Checking where both Gender_Female and Gender_Male are 0 (i.e not assigning any gender to the record.)\u001b[39;00m\n\u001b[0;32m      4\u001b[0m missing_gender \u001b[38;5;241m=\u001b[39m X_train_resampled_s[(X_train_resampled_s[\u001b[38;5;124m'\u001b[39m\u001b[38;5;124mGender_Female\u001b[39m\u001b[38;5;124m'\u001b[39m] \u001b[38;5;241m==\u001b[39m \u001b[38;5;241m0\u001b[39m) \u001b[38;5;241m&\u001b[39m (X_train_resampled_s[\u001b[38;5;124m'\u001b[39m\u001b[38;5;124mGender_Male\u001b[39m\u001b[38;5;124m'\u001b[39m] \u001b[38;5;241m==\u001b[39m \u001b[38;5;241m0\u001b[39m)]\n",
      "\u001b[1;31mNameError\u001b[0m: name 'X_train_resampled_s' is not defined"
     ]
    }
   ],
   "source": [
    "print(\"Shape of reshmpled data :\",X_train_resampled_s.shape, X_train_resampled_s.shape)\n",
    "\n",
    "# Checking where both Gender_Female and Gender_Male are 0 (i.e not assigning any gender to the record.)\n",
    "missing_gender = X_train_resampled_s[(X_train_resampled_s['Gender_Female'] == 0) & (X_train_resampled_s['Gender_Male'] == 0)]\n",
    "\n",
    "# Display the count of such rows\n",
    "print(f\"Number of rows with missing gender encoding: {missing_gender.shape[0]}\")\n",
    "\n",
    "# Check where both Gender_Female and Gender_Male is 1 (i.e assigning male and female both to same record.)\n",
    "duplicating_gender = X_train_resampled_s[(X_train_resampled_s['Gender_Female'] == 1) & (X_train_resampled_s['Gender_Male'] == 1)]\n",
    "\n",
    "# Display the count of such rows\n",
    "print(f\"Number of rows with duplicating gender encoding: {duplicating_gender.shape[0]}\")"
   ]
  },
  {
   "cell_type": "code",
   "execution_count": null,
   "metadata": {},
   "outputs": [
    {
     "data": {
      "image/png": "[encoded data removed]",
      "text/plain": [
       "<Figure size 640x480 with 1 Axes>"
      ]
     },
     "metadata": {},
     "output_type": "display_data"
    }
   ],
   "source": [
    "# Counting the number of rows with valid and missing gender encoding.\n",
    "valid_gender_count = X_train_resampled_s.shape[0] - missing_gender.shape[0]\n",
    "missing_gender_count = missing_gender.shape[0]\n",
    "\n",
    "# Pie chart\n",
    "plt.pie([valid_gender_count, missing_gender_count], labels=['Valid Gender Encoding', 'Missing Gender Encoding'], \n",
    "        autopct='%1.1f%%', startangle=90, colors=['skyblue', 'salmon'])\n",
    "plt.title('Valid vs. Missing Gender Encoding in Percentage')\n",
    "plt.show()"
   ]
  },
  {
   "cell_type": "markdown",
   "metadata": {},
   "source": [
    "**Since there are many instances where gender assignment is missed during the SMOTE sampling process. So, assigning 0 or 1 to Gender Female and Male equally to make gender balance.**"
   ]
  },
  {
   "cell_type": "code",
   "execution_count": 39,
   "metadata": {},
   "outputs": [
    {
     "name": "stdout",
     "output_type": "stream",
     "text": [
      " Total Gender Female in Training set:  325\n",
      " Total Gender Male in Training set:  317\n"
     ]
    }
   ],
   "source": [
    "# Rows with missing gender assigment during SMOTE sampling\n",
    "gender_Female_ = X_train_resampled_s[(X_train_resampled_s['Gender_Female'] == 1) ]\n",
    "gender_Male_ = X_train_resampled_s[(X_train_resampled_s['Gender_Male'] == 1) ]\n",
    "print(\" Total Gender Female in Training set: \",len(gender_Female_))\n",
    "print(\" Total Gender Male in Training set: \",len(gender_Male_))"
   ]
  },
  {
   "cell_type": "code",
   "execution_count": null,
   "metadata": {},
   "outputs": [
    {
     "name": "stdout",
     "output_type": "stream",
     "text": [
      "Number of rows with missing gender encoding after fixing: 0\n"
     ]
    }
   ],
   "source": [
    "# Finding rows with missing gender assignment SMOTE sampling\n",
    "missing_gender_indices = X_train_resampled_s[(X_train_resampled_s['Gender_Female'] == 0) & \n",
    "                                           (X_train_resampled_s['Gender_Male'] == 0)].index\n",
    "\n",
    "# series of 0 is created equal to missing missing_gender length\n",
    "gender_assignment = np.zeros(len(missing_gender_indices), dtype=int)\n",
    "\n",
    "# half of the gender_assignment is assigned to Female and other half to Gender_Male\n",
    "gender_assignment[:len(gender_assignment)//2] = 1 \n",
    "\n",
    "# making a random series of 1 and 0 by suffling\n",
    "np.random.shuffle(gender_assignment)\n",
    "\n",
    "\n",
    "# Now assigning the vlaues back to the original training data \n",
    "X_train_resampled_s.loc[missing_gender_indices, 'Gender_Female'] = gender_assignment\n",
    "X_train_resampled_s.loc[missing_gender_indices, 'Gender_Male'] = 1 - gender_assignment\n",
    "\n",
    "\n",
    "# Verifing that there is no missing gender assignment\n",
    "missing_gender_fixed = X_train_resampled_s[(X_train_resampled_s['Gender_Female'] == 0) & \n",
    "                                         (X_train_resampled_s['Gender_Male'] == 0)]\n",
    "print(f\"Number of rows with missing gender encoding after fixing: {missing_gender_fixed.shape[0]}\")\n"
   ]
  },
  {
   "cell_type": "code",
   "execution_count": 41,
   "metadata": {},
   "outputs": [
    {
     "name": "stdout",
     "output_type": "stream",
     "text": [
      " Total Gender Female in Training set:  481\n",
      " Total Gender Male in Training set:  473\n"
     ]
    }
   ],
   "source": [
    "# Rows with missing gender assigment during SMOTE sampling\n",
    "gender_Female_ = X_train_resampled_s[(X_train_resampled_s['Gender_Female'] == 1) ]\n",
    "gender_Male_ = X_train_resampled_s[(X_train_resampled_s['Gender_Male'] == 1) ]\n",
    "print(\" Total Gender Female in Training set: \",len(gender_Female_))\n",
    "print(\" Total Gender Male in Training set: \",len(gender_Male_))"
   ]
  },
  {
   "cell_type": "code",
   "execution_count": 42,
   "metadata": {},
   "outputs": [
    {
     "data": {
      "image/png": "[encoded data removed]",
      "text/plain": [
       "<Figure size 640x480 with 1 Axes>"
      ]
     },
     "metadata": {},
     "output_type": "display_data"
    }
   ],
   "source": [
    "# Check if there are any rows where both Gender_Female and Gender_Male are 0\n",
    "missing_gender = X_train_resampled_s[(X_train_resampled_s['Gender_Female'] == 0) & (X_train_resampled_s['Gender_Male'] == 0)]\n",
    "\n",
    "# Count the number of rows with valid and missing gender encoding\n",
    "valid_gender_count = X_train_resampled_s.shape[0] - missing_gender.shape[0]\n",
    "missing_gender_count = missing_gender.shape[0]\n",
    "\n",
    "# Pie chart\n",
    "plt.pie([valid_gender_count, missing_gender_count], labels=['Valid Gender Encoding', 'Missing Gender Encoding'], \n",
    "        autopct='%1.1f%%', startangle=90, colors=['skyblue', 'salmon'])\n",
    "plt.title('Valid vs. Missing Gender Encoding Percentage')\n",
    "plt.show()"
   ]
  },
  {
   "cell_type": "code",
   "execution_count": 43,
   "metadata": {},
   "outputs": [
    {
     "data": {
      "image/png": "[encoded data removed]",
      "text/plain": [
       "<Figure size 400x300 with 1 Axes>"
      ]
     },
     "metadata": {},
     "output_type": "display_data"
    }
   ],
   "source": [
    "# Bar plot to visualize the gender distribution\n",
    "plt.figure(figsize=(4, 3))\n",
    "\n",
    "# Creating count for gender\n",
    "gender_counts = X_train_resampled_s[['Gender_Female', 'Gender_Male']].sum()\n",
    "\n",
    "sns.barplot(data=gender_counts,  palette=['orange', 'royalblue'])\n",
    "plt.xlabel('Gender')\n",
    "plt.ylabel('Count')\n",
    "plt.title('Gender Distribution After Handling Missing Encoding during SMOTE')\n",
    "plt.show()"
   ]
  },
  {
   "cell_type": "markdown",
   "metadata": {},
   "source": [
    "#### **SMOTE Analysis Conclusion** ####\n",
    "\n",
    "When SMOTE sampling is applied to the training (X_train and y_train) dataset do not produce the balanced data at gender level. However it has successfully generated equally distributed data at BMI class level showing equal number of data in each target class.\n",
    "SMOTE missed many date to categorize it either into Gender_Female or Gender_Male. So, the missed data points are equally divided into two and assign 1 for Gender_Female (0 for Gender_Male) and 1 for Gender_Male (0 for Gender_Female) in respective columns."
   ]
  },
  {
   "cell_type": "markdown",
   "metadata": {},
   "source": [
    "### **Logistic Regression using SMOTE** ###"
   ]
  },
  {
   "cell_type": "markdown",
   "metadata": {},
   "source": [
    "**Logistic Regression with equal class weight class_weight=None**"
   ]
  },
  {
   "cell_type": "code",
   "execution_count": null,
   "metadata": {},
   "outputs": [
    {
     "name": "stdout",
     "output_type": "stream",
     "text": [
      "Fitting 5 folds for each of 180 candidates, totalling 900 fits\n",
      "Best parameters: {'C': 0.1, 'class_weight': None, 'max_iter': 1200, 'multi_class': 'multinomial', 'penalty': 'l2', 'solver': 'lbfgs'}\n",
      "Best cross-validated score: 0.8752493799944888\n",
      "Accuracy on test set: 0.86\n",
      "Precision (micro): 0.86\n",
      "Recall (micro): 0.86\n",
      "F1 Score (micro): 0.86\n",
      "Confusion Matrix:\n",
      " [[ 1  0  0  0  0  0]\n",
      " [ 0  4  0  0  0  0]\n",
      " [ 0  2 16  0  0  0]\n",
      " [ 0  0  1  6  1  0]\n",
      " [ 0  0  0  8 22  0]\n",
      " [ 0  0  0  0  2 37]]\n",
      "              precision    recall  f1-score   support\n",
      "\n",
      "           0       1.00      1.00      1.00         1\n",
      "           1       0.67      1.00      0.80         4\n",
      "           2       0.94      0.89      0.91        18\n",
      "           3       0.43      0.75      0.55         8\n",
      "           4       0.88      0.73      0.80        30\n",
      "           5       1.00      0.95      0.97        39\n",
      "\n",
      "    accuracy                           0.86       100\n",
      "   macro avg       0.82      0.89      0.84       100\n",
      "weighted avg       0.89      0.86      0.87       100\n",
      "\n"
     ]
    }
   ],
   "source": [
    "# Using optimized model from GridSearchCV to fit the training data\n",
    "grid_search_notBalanced.fit(X_train_resampled_s, y_train_resampled_s)\n",
    "\n",
    "# Displaying the best parameters and score\n",
    "print(\"Best parameters:\", grid_search_notBalanced.best_params_)\n",
    "print(\"Best cross-validated score:\", grid_search_notBalanced.best_score_)\n",
    "\n",
    "# Evaluating the best model found by GridSearchCV on the test set\n",
    "best_model = grid_search_notBalanced.best_estimator_\n",
    "y_pred_lr_n = best_model.predict(X_test_s)\n",
    "print(\"Accuracy on test set:\", accuracy_score(y_test_s, y_pred_lr_n))\n",
    "\n",
    "# Calculating precision, recall, and F1 score\n",
    "precision = precision_score(y_test_s, y_pred_lr_n, average='micro')\n",
    "recall = recall_score(y_test_s, y_pred_lr_n, average='micro')\n",
    "f1 = f1_score(y_test_s, y_pred_lr_n, average='micro')\n",
    "\n",
    "# Output the precision, recall, and F1 score\n",
    "print(f\"Precision (micro): {precision}\")\n",
    "print(f\"Recall (micro): {recall}\")\n",
    "print(f\"F1 Score (micro): {f1}\")\n",
    "\n",
    "print(\"Confusion Matrix:\\n\", confusion_matrix(y_test_s, y_pred_lr_n))\n",
    "\n",
    "# Evaluate the model performance\n",
    "print(classification_report(y_test_s, y_pred_lr_n))"
   ]
  },
  {
   "cell_type": "markdown",
   "metadata": {},
   "source": [
    "**Logistic Regression with unequal class weight (i.e weight based on the frequency of class)**"
   ]
  },
  {
   "cell_type": "code",
   "execution_count": null,
   "metadata": {},
   "outputs": [
    {
     "data": {
      "text/plain": [
       "array([5.55555556, 3.7037037 , 1.30718954, 1.11111111, 0.66666667,\n",
       "       0.41928721])"
      ]
     },
     "execution_count": 67,
     "metadata": {},
     "output_type": "execute_result"
    }
   ],
   "source": [
    "sklearn_weights = class_weight.compute_class_weight(class_weight='balanced', classes=np.unique(y_train_s), y=y_train_s)\n",
    "print(f\"Following class weight are assigned for balanced class weight : {sklearn_weights}\")"
   ]
  },
  {
   "cell_type": "code",
   "execution_count": null,
   "metadata": {},
   "outputs": [
    {
     "name": "stdout",
     "output_type": "stream",
     "text": [
      "Fitting 5 folds for each of 180 candidates, totalling 900 fits\n",
      "Best parameters: {'C': 100, 'class_weight': 'balanced', 'max_iter': 1200, 'multi_class': 'multinomial', 'penalty': 'l2', 'solver': 'lbfgs'}\n",
      "Best cross-validated score: 0.866883438963902\n",
      "Accuracy on test set: 0.87\n",
      "Precision (micro): 0.87\n",
      "Recall (micro): 0.87\n",
      "F1 Score (micro): 0.87\n",
      "Confusion Matrix:\n",
      " [[ 1  0  0  0  0  0]\n",
      " [ 0  4  0  0  0  0]\n",
      " [ 1  1 16  0  0  0]\n",
      " [ 0  0  1  7  0  0]\n",
      " [ 0  0  0  8 22  0]\n",
      " [ 0  0  0  0  2 37]]\n",
      "              precision    recall  f1-score   support\n",
      "\n",
      "           0       0.50      1.00      0.67         1\n",
      "           1       0.80      1.00      0.89         4\n",
      "           2       0.94      0.89      0.91        18\n",
      "           3       0.47      0.88      0.61         8\n",
      "           4       0.92      0.73      0.81        30\n",
      "           5       1.00      0.95      0.97        39\n",
      "\n",
      "    accuracy                           0.87       100\n",
      "   macro avg       0.77      0.91      0.81       100\n",
      "weighted avg       0.91      0.87      0.88       100\n",
      "\n"
     ]
    }
   ],
   "source": [
    "# Using optimized model from GridSearchCV to fit the training data\n",
    "grid_search_balanceed.fit(X_train_resampled_s, y_train_resampled_s)\n",
    "\n",
    "# Display the best parameters and score\n",
    "print(\"Best parameters:\", grid_search_balanceed.best_params_)\n",
    "print(\"Best cross-validated score:\", grid_search_balanceed.best_score_)\n",
    "\n",
    "# Evaluate the best model found by GridSearchCV on the test set\n",
    "best_model = grid_search_balanceed.best_estimator_\n",
    "y_pred_lr_b = best_model.predict(X_test_s)\n",
    "print(\"Accuracy on test set:\", accuracy_score(y_test_s, y_pred_lr_b))\n",
    "\n",
    "# Calculate precision, recall, and F1 score\n",
    "precision = precision_score(y_test_s, y_pred_lr_b, average='micro')\n",
    "recall = recall_score(y_test_s, y_pred_lr_b, average='micro')\n",
    "f1 = f1_score(y_test_s, y_pred_lr_b, average='micro')\n",
    "\n",
    "# Output the precision, recall, and F1 score\n",
    "print(f\"Precision (micro): {precision}\")\n",
    "print(f\"Recall (micro): {recall}\")\n",
    "print(f\"F1 Score (micro): {f1}\")\n",
    "\n",
    "print(\"Confusion Matrix:\\n\", confusion_matrix(y_test_s, y_pred_lr_b))\n",
    "\n",
    "# Evaluate the model performance\n",
    "print(classification_report(y_test_s, y_pred_lr_b))"
   ]
  },
  {
   "cell_type": "markdown",
   "metadata": {},
   "source": [
    "**Using SVM Without SMOTE**\n"
   ]
  },
  {
   "cell_type": "code",
   "execution_count": 68,
   "metadata": {},
   "outputs": [],
   "source": [
    "param_grid_svm = {\n",
    "    'C': [0.1, 1, 10, 100],  \n",
    "    'kernel': ['linear', 'rbf'], \n",
    "    'gamma': ['scale']  # 'scale' since it's usually effective with SVM\n",
    "}\n",
    "\n",
    "# Initializing Support Vector Machine (SVM) model \n",
    "svm = SVC()\n",
    "grid_search_svm = GridSearchCV(svm, param_grid_svm, cv=5, scoring='accuracy', verbose=1)"
   ]
  },
  {
   "cell_type": "code",
   "execution_count": null,
   "metadata": {},
   "outputs": [
    {
     "name": "stdout",
     "output_type": "stream",
     "text": [
      "Fitting 5 folds for each of 8 candidates, totalling 40 fits\n",
      "Best parameters: {'C': 100, 'gamma': 'scale', 'kernel': 'linear'}\n",
      "Best cross-validated score: 0.9400000000000001\n",
      "Accuracy on test set: 0.93\n",
      "Model: SVM\n",
      "Accuracy Score: 0.93\n",
      "Confusion Matrix:\n",
      " [[ 1  0  0  0  0  0]\n",
      " [ 0  4  0  0  0  0]\n",
      " [ 0  1 17  0  0  0]\n",
      " [ 0  0  1  7  0  0]\n",
      " [ 0  0  0  1 26  3]\n",
      " [ 0  0  0  0  1 38]]\n",
      "Classification Report:\n",
      "               precision    recall  f1-score   support\n",
      "\n",
      "           0       1.00      1.00      1.00         1\n",
      "           1       0.80      1.00      0.89         4\n",
      "           2       0.94      0.94      0.94        18\n",
      "           3       0.88      0.88      0.88         8\n",
      "           4       0.96      0.87      0.91        30\n",
      "           5       0.93      0.97      0.95        39\n",
      "\n",
      "    accuracy                           0.93       100\n",
      "   macro avg       0.92      0.94      0.93       100\n",
      "weighted avg       0.93      0.93      0.93       100\n",
      "\n",
      "------------------------------------------------------\n"
     ]
    }
   ],
   "source": [
    "# Using optimized model from GridSearchCV to fit the training data\n",
    "grid_search_svm.fit(X_train_g, y_train_g)\n",
    "\n",
    "print(\"Best parameters:\", grid_search_svm.best_params_)\n",
    "print(\"Best cross-validated score:\", grid_search_svm.best_score_)\n",
    "\n",
    "# Evaluate the best model found by GridSearchCV on the test set\n",
    "best_model = grid_search_svm.best_estimator_\n",
    "y_pred_svm = best_model.predict(X_test_g)\n",
    "print(\"Accuracy on test set:\", accuracy_score(y_test_g, y_pred_svm))\n",
    "\n",
    "def evaluate_model(y_test, predictions, model_name):\n",
    "    print(f\"Model: {model_name}\")\n",
    "    print(\"Accuracy Score:\", accuracy_score(y_test, predictions))\n",
    "    print(\"Confusion Matrix:\\n\", confusion_matrix(y_test, predictions))\n",
    "    print(\"Classification Report:\\n\", classification_report(y_test, predictions))\n",
    "    print(\"------------------------------------------------------\")\n",
    "\n",
    "evaluate_model(y_test_g, y_pred_svm, \"SVM\")"
   ]
  },
  {
   "cell_type": "markdown",
   "metadata": {},
   "source": [
    "**SVM using SMOTE**"
   ]
  },
  {
   "cell_type": "code",
   "execution_count": null,
   "metadata": {},
   "outputs": [
    {
     "name": "stdout",
     "output_type": "stream",
     "text": [
      "Fitting 5 folds for each of 8 candidates, totalling 40 fits\n",
      "Best parameters: {'C': 1, 'gamma': 'scale', 'kernel': 'linear'}\n",
      "Best cross-validated score: 0.9433948746211078\n",
      "Accuracy on test set: 0.92\n",
      "Model: SVM\n",
      "Accuracy Score: 0.92\n",
      "Confusion Matrix:\n",
      " [[ 1  0  0  0  0  0]\n",
      " [ 0  4  0  0  0  0]\n",
      " [ 0  0 18  0  0  0]\n",
      " [ 0  0  1  7  0  0]\n",
      " [ 0  0  0  4 25  1]\n",
      " [ 0  0  0  0  2 37]]\n",
      "Classification Report:\n",
      "               precision    recall  f1-score   support\n",
      "\n",
      "           0       1.00      1.00      1.00         1\n",
      "           1       1.00      1.00      1.00         4\n",
      "           2       0.95      1.00      0.97        18\n",
      "           3       0.64      0.88      0.74         8\n",
      "           4       0.93      0.83      0.88        30\n",
      "           5       0.97      0.95      0.96        39\n",
      "\n",
      "    accuracy                           0.92       100\n",
      "   macro avg       0.91      0.94      0.92       100\n",
      "weighted avg       0.93      0.92      0.92       100\n",
      "\n",
      "------------------------------------------------------\n"
     ]
    }
   ],
   "source": [
    "# Using optimized model from GridSearchCV to fit the training data\n",
    "grid_search_svm.fit(X_train_resampled_s, y_train_resampled_s)\n",
    "\n",
    "print(\"Best parameters:\", grid_search_svm.best_params_)\n",
    "print(\"Best cross-validated score:\", grid_search_svm.best_score_)\n",
    "\n",
    "# Evaluate the best model found by GridSearchCV on the test set\n",
    "best_model = grid_search_svm.best_estimator_\n",
    "y_pred_svm_resampled_s = best_model.predict(X_test_s)\n",
    "print(\"Accuracy on test set:\", accuracy_score(y_test_s, y_pred_svm_resampled_s))\n",
    "\n",
    "def evaluate_model(y_test, predictions, model_name):\n",
    "    print(f\"Model: {model_name}\")\n",
    "    print(\"Accuracy Score:\", accuracy_score(y_test, predictions))\n",
    "    print(\"Confusion Matrix:\\n\", confusion_matrix(y_test, predictions))\n",
    "    print(\"Classification Report:\\n\", classification_report(y_test, predictions))\n",
    "    print(\"------------------------------------------------------\")\n",
    "\n",
    "evaluate_model(y_test_s, y_pred_svm_resampled_s, \"SVM\")"
   ]
  },
  {
   "cell_type": "markdown",
   "metadata": {},
   "source": [
    "**Using KNN without SMOTE**"
   ]
  },
  {
   "cell_type": "code",
   "execution_count": null,
   "metadata": {},
   "outputs": [],
   "source": [
    "param_grid = {\n",
    "    'n_neighbors': range(5, 10),\n",
    "    'metric': ['euclidean', 'manhattan', 'minkowski'],\n",
    "    'weights': ['uniform', 'distance']\n",
    "}\n",
    "knn = KNeighborsClassifier()\n",
    "grid_search_knn = GridSearchCV(knn, param_grid, cv=5, scoring='accuracy')"
   ]
  },
  {
   "cell_type": "code",
   "execution_count": null,
   "metadata": {},
   "outputs": [
    {
     "name": "stdout",
     "output_type": "stream",
     "text": [
      "Best parameters: {'metric': 'manhattan', 'n_neighbors': 5, 'weights': 'distance'}\n",
      "Best cross-validated score: 0.8675\n",
      "Accuracy on test set: 0.9\n",
      "Model: KNN\n",
      "Accuracy Score: 0.9\n",
      "Confusion Matrix:\n",
      " [[ 1  0  0  0  0  0]\n",
      " [ 0  4  0  0  0  0]\n",
      " [ 0  1 16  1  0  0]\n",
      " [ 0  0  0  8  0  0]\n",
      " [ 0  0  1  2 24  3]\n",
      " [ 0  0  0  0  2 37]]\n",
      "Classification Report:\n",
      "               precision    recall  f1-score   support\n",
      "\n",
      "           0       1.00      1.00      1.00         1\n",
      "           1       0.80      1.00      0.89         4\n",
      "           2       0.94      0.89      0.91        18\n",
      "           3       0.73      1.00      0.84         8\n",
      "           4       0.92      0.80      0.86        30\n",
      "           5       0.93      0.95      0.94        39\n",
      "\n",
      "    accuracy                           0.90       100\n",
      "   macro avg       0.89      0.94      0.91       100\n",
      "weighted avg       0.91      0.90      0.90       100\n",
      "\n",
      "------------------------------------------------------\n"
     ]
    }
   ],
   "source": [
    "# Using optimized model from GridSearchCV to fit the training data\n",
    "grid_search_knn.fit(X_train_g, y_train_g)\n",
    "\n",
    "print(\"Best parameters:\", grid_search_knn.best_params_)\n",
    "print(\"Best cross-validated score:\", grid_search_knn.best_score_)\n",
    "\n",
    "# Evaluate the best model found by GridSearchCV on the test set\n",
    "best_model = grid_search_knn.best_estimator_\n",
    "y_pred_knn = best_model.predict(X_test_g)\n",
    "print(\"Accuracy on test set:\", accuracy_score(y_test_g, y_pred_knn))\n",
    "\n",
    "# Evaluation\n",
    "def evaluate_model(y_test, predictions, model_name):\n",
    "    print(f\"Model: {model_name}\")\n",
    "    print(\"Accuracy Score:\", accuracy_score(y_test, predictions))\n",
    "    print(\"Confusion Matrix:\\n\", confusion_matrix(y_test, predictions))\n",
    "    print(\"Classification Report:\\n\", classification_report(y_test, predictions))\n",
    "    print(\"------------------------------------------------------\")\n",
    "\n",
    "evaluate_model(y_test_g, y_pred_knn, \"KNN\")"
   ]
  },
  {
   "cell_type": "markdown",
   "metadata": {},
   "source": [
    "**KNN using SMOTE** "
   ]
  },
  {
   "cell_type": "code",
   "execution_count": null,
   "metadata": {},
   "outputs": [
    {
     "name": "stdout",
     "output_type": "stream",
     "text": [
      "Best parameters: {'metric': 'manhattan', 'n_neighbors': 4, 'weights': 'distance'}\n",
      "Best cross-validated score: 0.9528354918710388\n",
      "Accuracy on test set: 0.93\n",
      "Model: KNN\n",
      "Accuracy Score: 0.93\n",
      "Confusion Matrix:\n",
      " [[ 1  0  0  0  0  0]\n",
      " [ 0  4  0  0  0  0]\n",
      " [ 0  0 18  0  0  0]\n",
      " [ 0  0  1  7  0  0]\n",
      " [ 0  0  0  1 26  3]\n",
      " [ 0  0  0  0  2 37]]\n",
      "Classification Report:\n",
      "               precision    recall  f1-score   support\n",
      "\n",
      "           0       1.00      1.00      1.00         1\n",
      "           1       1.00      1.00      1.00         4\n",
      "           2       0.95      1.00      0.97        18\n",
      "           3       0.88      0.88      0.88         8\n",
      "           4       0.93      0.87      0.90        30\n",
      "           5       0.93      0.95      0.94        39\n",
      "\n",
      "    accuracy                           0.93       100\n",
      "   macro avg       0.95      0.95      0.95       100\n",
      "weighted avg       0.93      0.93      0.93       100\n",
      "\n",
      "------------------------------------------------------\n"
     ]
    }
   ],
   "source": [
    "# Using optimized model from GridSearchCV to fit the training data\n",
    "grid_search_knn.fit(X_train_resampled_s, y_train_resampled_s)\n",
    "\n",
    "print(\"Best parameters:\", grid_search_knn.best_params_)\n",
    "print(\"Best cross-validated score:\", grid_search_knn.best_score_)\n",
    "\n",
    "# Evaluate the best model found by GridSearchCV on the test set\n",
    "best_model = grid_search_knn.best_estimator_\n",
    "y_pred_knn_resampled_s = best_model.predict(X_test_s)\n",
    "print(\"Accuracy on test set:\", accuracy_score(y_test_s, y_pred_knn_resampled_s))\n",
    "\n",
    "# Evaluation\n",
    "def evaluate_model(y_test, predictions, model_name):\n",
    "    print(f\"Model: {model_name}\")\n",
    "    print(\"Accuracy Score:\", accuracy_score(y_test, predictions))\n",
    "    print(\"Confusion Matrix:\\n\", confusion_matrix(y_test, predictions))\n",
    "    print(\"Classification Report:\\n\", classification_report(y_test, predictions))\n",
    "    print(\"------------------------------------------------------\")\n",
    "\n",
    "\n",
    "evaluate_model(y_test_s, y_pred_knn_resampled_s, \"KNN\")"
   ]
  },
  {
   "cell_type": "markdown",
   "metadata": {},
   "source": [
    "#### **Gender-Specific Modeling: Train separate models for each gender to evaluate if model performance improves when predicting BMI categories within gender groups** ####"
   ]
  },
  {
   "cell_type": "markdown",
   "metadata": {},
   "source": [
    "Creating new X and y datasets for each gender male and female"
   ]
  },
  {
   "cell_type": "markdown",
   "metadata": {},
   "source": [
    "#### **For Male Gender** ####"
   ]
  },
  {
   "cell_type": "code",
   "execution_count": 41,
   "metadata": {},
   "outputs": [],
   "source": [
    "\n",
    "# drop the columns \n",
    "df_male = df_encoded[df_encoded['Gender_Male']==1].drop(columns=['Gender_Male','Gender_Female'])\n",
    "df_male\n",
    "\n",
    "# Split features (X) and target (y)\n",
    "X_male = df_male[['Height', 'Weight']]  \n",
    "y_male = df_male['Index']\n",
    "\n",
    "\n",
    "X_train_m, X_test_m, y_train_m, y_test_m = train_test_split(X_male, y_male, test_size=0.2, random_state=42)\n",
    "\n",
    "scaler = StandardScaler()\n",
    "X_train_m = scaler.fit_transform(X_train_m)\n",
    "X_test_m = scaler.transform(X_test_m)\n",
    "\n",
    "smote = SMOTE(k_neighbors=4, random_state=42)\n",
    "X_train_resampled_m_s, y_train_resampled_m_s = smote.fit_resample(X_train_m, y_train_m)\n"
   ]
  },
  {
   "cell_type": "markdown",
   "metadata": {},
   "source": [
    "**Using SVM** "
   ]
  },
  {
   "cell_type": "code",
   "execution_count": null,
   "metadata": {},
   "outputs": [
    {
     "name": "stdout",
     "output_type": "stream",
     "text": [
      "Fitting 5 folds for each of 8 candidates, totalling 40 fits\n",
      "Best parameters: {'C': 100, 'gamma': 'scale', 'kernel': 'linear'}\n",
      "Best cross-validated score: 0.9592307692307692\n",
      "Accuracy on test set: 0.9795918367346939\n",
      "Model: SVM\n",
      "Accuracy Score: 0.9795918367346939\n",
      "Confusion Matrix:\n",
      " [[ 1  0  0  0  0  0]\n",
      " [ 1  4  0  0  0  0]\n",
      " [ 0  0  7  0  0  0]\n",
      " [ 0  0  0  9  0  0]\n",
      " [ 0  0  0  0 10  0]\n",
      " [ 0  0  0  0  0 17]]\n",
      "Classification Report:\n",
      "               precision    recall  f1-score   support\n",
      "\n",
      "           0       0.50      1.00      0.67         1\n",
      "           1       1.00      0.80      0.89         5\n",
      "           2       1.00      1.00      1.00         7\n",
      "           3       1.00      1.00      1.00         9\n",
      "           4       1.00      1.00      1.00        10\n",
      "           5       1.00      1.00      1.00        17\n",
      "\n",
      "    accuracy                           0.98        49\n",
      "   macro avg       0.92      0.97      0.93        49\n",
      "weighted avg       0.99      0.98      0.98        49\n",
      "\n",
      "------------------------------------------------------\n"
     ]
    }
   ],
   "source": [
    "# Using optimized model from GridSearchCV to fit the training data\n",
    "grid_search_svm.fit(X_train_m, y_train_m)\n",
    "\n",
    "print(\"Best parameters:\", grid_search_svm.best_params_)\n",
    "print(\"Best cross-validated score:\", grid_search_svm.best_score_)\n",
    "\n",
    "# Evaluate the best model found by GridSearchCV on the test set\n",
    "best_model = grid_search_svm.best_estimator_\n",
    "y_pred_svm_m = best_model.predict(X_test_m)\n",
    "print(\"Accuracy on test set:\", accuracy_score(y_test_m, y_pred_svm_m))\n",
    "\n",
    "\n",
    "def evaluate_model(y_test, predictions, model_name):\n",
    "    print(f\"Model: {model_name}\")\n",
    "    print(\"Accuracy Score:\", accuracy_score(y_test, predictions))\n",
    "    print(\"Confusion Matrix:\\n\", confusion_matrix(y_test, predictions))\n",
    "    print(\"Classification Report:\\n\", classification_report(y_test, predictions))\n",
    "    print(\"------------------------------------------------------\")\n",
    "\n",
    "evaluate_model(y_test_m, y_pred_svm_m, \"SVM\")"
   ]
  },
  {
   "cell_type": "markdown",
   "metadata": {},
   "source": [
    "**Using SVM and SMOTE**"
   ]
  },
  {
   "cell_type": "code",
   "execution_count": null,
   "metadata": {},
   "outputs": [
    {
     "name": "stdout",
     "output_type": "stream",
     "text": [
      "Fitting 5 folds for each of 8 candidates, totalling 40 fits\n",
      "Best parameters: {'C': 100, 'gamma': 'scale', 'kernel': 'linear'}\n",
      "Best cross-validated score: 0.9754357592093441\n",
      "Accuracy on test set: 0.9795918367346939\n",
      "Model: SVM\n",
      "Accuracy Score: 0.9795918367346939\n",
      "Confusion Matrix:\n",
      " [[ 1  0  0  0  0  0]\n",
      " [ 1  4  0  0  0  0]\n",
      " [ 0  0  7  0  0  0]\n",
      " [ 0  0  0  9  0  0]\n",
      " [ 0  0  0  0 10  0]\n",
      " [ 0  0  0  0  0 17]]\n",
      "Classification Report:\n",
      "               precision    recall  f1-score   support\n",
      "\n",
      "           0       0.50      1.00      0.67         1\n",
      "           1       1.00      0.80      0.89         5\n",
      "           2       1.00      1.00      1.00         7\n",
      "           3       1.00      1.00      1.00         9\n",
      "           4       1.00      1.00      1.00        10\n",
      "           5       1.00      1.00      1.00        17\n",
      "\n",
      "    accuracy                           0.98        49\n",
      "   macro avg       0.92      0.97      0.93        49\n",
      "weighted avg       0.99      0.98      0.98        49\n",
      "\n",
      "------------------------------------------------------\n"
     ]
    }
   ],
   "source": [
    "# Using optimized model from GridSearchCV to fit the training data\n",
    "grid_search_svm.fit(X_train_resampled_m_s, y_train_resampled_m_s)\n",
    "\n",
    "print(\"Best parameters:\", grid_search_svm.best_params_)\n",
    "print(\"Best cross-validated score:\", grid_search_svm.best_score_)\n",
    "\n",
    "# Evaluate the best model found by GridSearchCV on the test set\n",
    "best_model = grid_search_svm.best_estimator_\n",
    "y_pred_svm_resampled_m_s = best_model.predict(X_test_m)\n",
    "print(\"Accuracy on test set:\", accuracy_score(y_test_m, y_pred_svm_resampled_m_s))\n",
    "\n",
    "\n",
    "def evaluate_model(y_test, predictions, model_name):\n",
    "    print(f\"Model: {model_name}\")\n",
    "    print(\"Accuracy Score:\", accuracy_score(y_test, predictions))\n",
    "    print(\"Confusion Matrix:\\n\", confusion_matrix(y_test, predictions))\n",
    "    print(\"Classification Report:\\n\", classification_report(y_test, predictions))\n",
    "    print(\"------------------------------------------------------\")\n",
    "\n",
    "evaluate_model(y_test_m, y_pred_svm_resampled_m_s, \"SVM\")"
   ]
  },
  {
   "cell_type": "markdown",
   "metadata": {},
   "source": [
    "**Using KNN without SMOTE**"
   ]
  },
  {
   "cell_type": "code",
   "execution_count": null,
   "metadata": {},
   "outputs": [
    {
     "name": "stdout",
     "output_type": "stream",
     "text": [
      "Best parameters: {'metric': 'euclidean', 'n_neighbors': 3, 'weights': 'distance'}\n",
      "Best cross-validated score: 0.8880769230769232\n",
      "Accuracy on test set: 0.9387755102040817\n",
      "Model: KNN\n",
      "Accuracy Score: 0.9387755102040817\n",
      "Confusion Matrix:\n",
      " [[ 1  0  0  0  0  0]\n",
      " [ 1  4  0  0  0  0]\n",
      " [ 0  0  7  0  0  0]\n",
      " [ 0  0  0  8  1  0]\n",
      " [ 0  0  0  0  9  1]\n",
      " [ 0  0  0  0  0 17]]\n",
      "Classification Report:\n",
      "               precision    recall  f1-score   support\n",
      "\n",
      "           0       0.50      1.00      0.67         1\n",
      "           1       1.00      0.80      0.89         5\n",
      "           2       1.00      1.00      1.00         7\n",
      "           3       1.00      0.89      0.94         9\n",
      "           4       0.90      0.90      0.90        10\n",
      "           5       0.94      1.00      0.97        17\n",
      "\n",
      "    accuracy                           0.94        49\n",
      "   macro avg       0.89      0.93      0.89        49\n",
      "weighted avg       0.95      0.94      0.94        49\n",
      "\n",
      "------------------------------------------------------\n"
     ]
    }
   ],
   "source": [
    "# Using optimized model from GridSearchCV to fit the training data\n",
    "grid_search_knn.fit(X_train_m, y_train_m)\n",
    "\n",
    "print(\"Best parameters:\", grid_search_knn.best_params_)\n",
    "print(\"Best cross-validated score:\", grid_search_knn.best_score_)\n",
    "\n",
    "# Evaluate the best model found by GridSearchCV on the test set\n",
    "best_model = grid_search_knn.best_estimator_\n",
    "y_pred_knn_m = best_model.predict(X_test_m)\n",
    "print(\"Accuracy on test set:\", accuracy_score(y_test_m, y_pred_knn_m))\n",
    "\n",
    "# Evaluation\n",
    "def evaluate_model(y_test, predictions, model_name):\n",
    "    print(f\"Model: {model_name}\")\n",
    "    print(\"Accuracy Score:\", accuracy_score(y_test, predictions))\n",
    "    print(\"Confusion Matrix:\\n\", confusion_matrix(y_test, predictions))\n",
    "    print(\"Classification Report:\\n\", classification_report(y_test, predictions))\n",
    "    print(\"------------------------------------------------------\")\n",
    "\n",
    "evaluate_model(y_test_m, y_pred_knn_m, \"KNN\")"
   ]
  },
  {
   "cell_type": "markdown",
   "metadata": {},
   "source": [
    "**KNN with SMOTE**\n"
   ]
  },
  {
   "cell_type": "code",
   "execution_count": null,
   "metadata": {},
   "outputs": [
    {
     "name": "stdout",
     "output_type": "stream",
     "text": [
      "Best parameters: {'metric': 'manhattan', 'n_neighbors': 5, 'weights': 'distance'}\n",
      "Best cross-validated score: 0.9735309973045823\n",
      "Accuracy on test set: 0.8979591836734694\n",
      "Model: KNN\n",
      "Accuracy Score: 0.8979591836734694\n",
      "Confusion Matrix:\n",
      " [[ 1  0  0  0  0  0]\n",
      " [ 1  4  0  0  0  0]\n",
      " [ 0  0  7  0  0  0]\n",
      " [ 0  0  1  7  1  0]\n",
      " [ 0  0  0  1  9  0]\n",
      " [ 0  0  0  0  1 16]]\n",
      "Classification Report:\n",
      "               precision    recall  f1-score   support\n",
      "\n",
      "           0       0.50      1.00      0.67         1\n",
      "           1       1.00      0.80      0.89         5\n",
      "           2       0.88      1.00      0.93         7\n",
      "           3       0.88      0.78      0.82         9\n",
      "           4       0.82      0.90      0.86        10\n",
      "           5       1.00      0.94      0.97        17\n",
      "\n",
      "    accuracy                           0.90        49\n",
      "   macro avg       0.84      0.90      0.86        49\n",
      "weighted avg       0.91      0.90      0.90        49\n",
      "\n",
      "------------------------------------------------------\n"
     ]
    }
   ],
   "source": [
    "# Using optimized model from GridSearchCV to fit the training data\n",
    "grid_search_knn.fit(X_train_resampled_m_s, y_train_resampled_m_s)\n",
    "\n",
    "print(\"Best parameters:\", grid_search_knn.best_params_)\n",
    "print(\"Best cross-validated score:\", grid_search_knn.best_score_)\n",
    "\n",
    "# Evaluate the best model found by GridSearchCV on the test set\n",
    "best_model = grid_search_knn.best_estimator_\n",
    "y_pred_knn_resampled_m_s = best_model.predict(X_test_m)\n",
    "print(\"Accuracy on test set:\", accuracy_score(y_test_m, y_pred_knn_resampled_m_s))\n",
    "\n",
    "# Evaluation\n",
    "def evaluate_model(y_test, predictions, model_name):\n",
    "    print(f\"Model: {model_name}\")\n",
    "    print(\"Accuracy Score:\", accuracy_score(y_test, predictions))\n",
    "    print(\"Confusion Matrix:\\n\", confusion_matrix(y_test, predictions))\n",
    "    print(\"Classification Report:\\n\", classification_report(y_test, predictions))\n",
    "    print(\"------------------------------------------------------\")\n",
    "\n",
    "evaluate_model(y_test_m, y_pred_knn_resampled_m_s, \"KNN\")"
   ]
  },
  {
   "cell_type": "markdown",
   "metadata": {},
   "source": [
    "#### **For Female Gender** ####"
   ]
  },
  {
   "cell_type": "code",
   "execution_count": null,
   "metadata": {},
   "outputs": [],
   "source": [
    "# drop the columns \n",
    "df_female = df_encoded[df_encoded['Gender_Female']==1].drop(columns=['Gender_Male','Gender_Female'])\n",
    "\n",
    "# Split features (X) and target (y)\n",
    "X_female = df_female[['Height', 'Weight']]  \n",
    "y_female = df_female['Index']\n",
    "\n",
    "X_train_f, X_test_f, y_train_f, y_test_f = train_test_split(X_female, y_female, test_size=0.2, random_state=42)\n",
    "\n",
    "scaler = StandardScaler()\n",
    "X_train_f = scaler.fit_transform(X_train_f)\n",
    "X_test_f = scaler.transform(X_test_f)\n",
    "\n",
    "smote = SMOTE(k_neighbors=4, random_state=42)\n",
    "X_train_resampled_f_s, y_train_resampled_f_s = smote.fit_resample(X_train_f, y_train_f)\n",
    "\n"
   ]
  },
  {
   "cell_type": "markdown",
   "metadata": {},
   "source": [
    "**Using SVM without SMOTE**"
   ]
  },
  {
   "cell_type": "code",
   "execution_count": null,
   "metadata": {},
   "outputs": [
    {
     "name": "stdout",
     "output_type": "stream",
     "text": [
      "Fitting 5 folds for each of 8 candidates, totalling 40 fits\n",
      "Best parameters: {'C': 10, 'gamma': 'scale', 'kernel': 'linear'}\n",
      "Best cross-validated score: 0.9024390243902438\n",
      "Accuracy on test set: 0.9019607843137255\n",
      "Model: SVM\n",
      "Accuracy Score: 0.9019607843137255\n",
      "Confusion Matrix:\n",
      " [[ 0  2  0  0  0]\n",
      " [ 0  5  0  1  0]\n",
      " [ 0  2  8  0  0]\n",
      " [ 0  0  0 12  0]\n",
      " [ 0  0  0  0 21]]\n",
      "Classification Report:\n",
      "               precision    recall  f1-score   support\n",
      "\n",
      "           1       0.00      0.00      0.00         2\n",
      "           2       0.56      0.83      0.67         6\n",
      "           3       1.00      0.80      0.89        10\n",
      "           4       0.92      1.00      0.96        12\n",
      "           5       1.00      1.00      1.00        21\n",
      "\n",
      "    accuracy                           0.90        51\n",
      "   macro avg       0.70      0.73      0.70        51\n",
      "weighted avg       0.89      0.90      0.89        51\n",
      "\n",
      "------------------------------------------------------\n"
     ]
    }
   ],
   "source": [
    "# Using optimized model from GridSearchCV to fit the training data\n",
    "grid_search_svm.fit(X_train_f, y_train_f)\n",
    "\n",
    "print(\"Best parameters:\", grid_search_svm.best_params_)\n",
    "print(\"Best cross-validated score:\", grid_search_svm.best_score_)\n",
    "\n",
    "# Evaluate the best model found by GridSearchCV on the test set\n",
    "best_model = grid_search_svm.best_estimator_\n",
    "y_pred_svm_f = best_model.predict(X_test_f)\n",
    "print(\"Accuracy on test set:\", accuracy_score(y_test_f, y_pred_svm_f))\n",
    "\n",
    "\n",
    "def evaluate_model(y_test, predictions, model_name):\n",
    "    print(f\"Model: {model_name}\")\n",
    "    print(\"Accuracy Score:\", accuracy_score(y_test, predictions))\n",
    "    print(\"Confusion Matrix:\\n\", confusion_matrix(y_test, predictions))\n",
    "    print(\"Classification Report:\\n\", classification_report(y_test, predictions))\n",
    "    print(\"------------------------------------------------------\")\n",
    "\n",
    "evaluate_model(y_test_f, y_pred_svm_f, \"SVM\")"
   ]
  },
  {
   "cell_type": "markdown",
   "metadata": {},
   "source": [
    "**Using SVM with SMOTE**"
   ]
  },
  {
   "cell_type": "code",
   "execution_count": null,
   "metadata": {},
   "outputs": [
    {
     "name": "stdout",
     "output_type": "stream",
     "text": [
      "Fitting 5 folds for each of 8 candidates, totalling 40 fits\n",
      "Best parameters: {'C': 100, 'gamma': 'scale', 'kernel': 'rbf'}\n",
      "Best cross-validated score: 0.9375300721732158\n",
      "Accuracy on test set: 0.9215686274509803\n",
      "Model: SVM\n",
      "Accuracy Score: 0.9215686274509803\n",
      "Confusion Matrix:\n",
      " [[ 2  0  0  0  0]\n",
      " [ 0  5  0  1  0]\n",
      " [ 0  3  7  0  0]\n",
      " [ 0  0  0 12  0]\n",
      " [ 0  0  0  0 21]]\n",
      "Classification Report:\n",
      "               precision    recall  f1-score   support\n",
      "\n",
      "           1       1.00      1.00      1.00         2\n",
      "           2       0.62      0.83      0.71         6\n",
      "           3       1.00      0.70      0.82        10\n",
      "           4       0.92      1.00      0.96        12\n",
      "           5       1.00      1.00      1.00        21\n",
      "\n",
      "    accuracy                           0.92        51\n",
      "   macro avg       0.91      0.91      0.90        51\n",
      "weighted avg       0.94      0.92      0.92        51\n",
      "\n",
      "------------------------------------------------------\n"
     ]
    }
   ],
   "source": [
    "# Using optimized model from GridSearchCV to fit the training data\n",
    "grid_search_svm.fit(X_train_resampled_f_s, y_train_resampled_f_s)\n",
    "\n",
    "print(\"Best parameters:\", grid_search_svm.best_params_)\n",
    "print(\"Best cross-validated score:\", grid_search_svm.best_score_)\n",
    "\n",
    "# Evaluate the best model found by GridSearchCV on the test set\n",
    "best_model = grid_search_svm.best_estimator_\n",
    "y_pred_svm_resampled_f_s = best_model.predict(X_test_f)\n",
    "print(\"Accuracy on test set:\", accuracy_score(y_test_f, y_pred_svm_resampled_f_s))\n",
    "\n",
    "\n",
    "def evaluate_model(y_test, predictions, model_name):\n",
    "    print(f\"Model: {model_name}\")\n",
    "    print(\"Accuracy Score:\", accuracy_score(y_test, predictions))\n",
    "    print(\"Confusion Matrix:\\n\", confusion_matrix(y_test, predictions))\n",
    "    print(\"Classification Report:\\n\", classification_report(y_test, predictions))\n",
    "    print(\"------------------------------------------------------\")\n",
    "\n",
    "evaluate_model(y_test_f, y_pred_svm_resampled_f_s, \"SVM\")"
   ]
  },
  {
   "cell_type": "markdown",
   "metadata": {},
   "source": [
    "**KNN without SMOTE**"
   ]
  },
  {
   "cell_type": "code",
   "execution_count": null,
   "metadata": {},
   "outputs": [
    {
     "name": "stdout",
     "output_type": "stream",
     "text": [
      "Best parameters: {'metric': 'euclidean', 'n_neighbors': 5, 'weights': 'uniform'}\n",
      "Best cross-validated score: 0.8629268292682927\n",
      "Accuracy on test set: 0.8431372549019608\n",
      "Model: KNN\n",
      "Accuracy Score: 0.8431372549019608\n",
      "Confusion Matrix:\n",
      " [[ 0  2  0  0  0]\n",
      " [ 0  5  0  1  0]\n",
      " [ 0  3  6  1  0]\n",
      " [ 0  0  0 12  0]\n",
      " [ 0  0  0  1 20]]\n",
      "Classification Report:\n",
      "               precision    recall  f1-score   support\n",
      "\n",
      "           1       0.00      0.00      0.00         2\n",
      "           2       0.50      0.83      0.62         6\n",
      "           3       1.00      0.60      0.75        10\n",
      "           4       0.80      1.00      0.89        12\n",
      "           5       1.00      0.95      0.98        21\n",
      "\n",
      "    accuracy                           0.84        51\n",
      "   macro avg       0.66      0.68      0.65        51\n",
      "weighted avg       0.85      0.84      0.83        51\n",
      "\n",
      "------------------------------------------------------\n"
     ]
    }
   ],
   "source": [
    "# Using optimized model from GridSearchCV to fit the training data\n",
    "grid_search_knn.fit(X_train_f, y_train_f)\n",
    "\n",
    "print(\"Best parameters:\", grid_search_knn.best_params_)\n",
    "print(\"Best cross-validated score:\", grid_search_knn.best_score_)\n",
    "\n",
    "# Evaluate the best model found by GridSearchCV on the test set\n",
    "best_model = grid_search_knn.best_estimator_\n",
    "y_pred_knn_f = best_model.predict(X_test_f)\n",
    "print(\"Accuracy on test set:\", accuracy_score(y_test_f, y_pred_knn_f))\n",
    "\n",
    "# Evaluation\n",
    "def evaluate_model(y_test, predictions, model_name):\n",
    "    print(f\"Model: {model_name}\")\n",
    "    print(\"Accuracy Score:\", accuracy_score(y_test, predictions))\n",
    "    print(\"Confusion Matrix:\\n\", confusion_matrix(y_test, predictions))\n",
    "    print(\"Classification Report:\\n\", classification_report(y_test, predictions))\n",
    "    print(\"------------------------------------------------------\")\n",
    "\n",
    "evaluate_model(y_test_f, y_pred_knn_f, \"KNN\")"
   ]
  },
  {
   "cell_type": "markdown",
   "metadata": {},
   "source": [
    "**KNN with SMOTE**\n"
   ]
  },
  {
   "cell_type": "code",
   "execution_count": null,
   "metadata": {},
   "outputs": [
    {
     "name": "stdout",
     "output_type": "stream",
     "text": [
      "Best parameters: {'metric': 'manhattan', 'n_neighbors': 7, 'weights': 'distance'}\n",
      "Best cross-validated score: 0.9282812082330928\n",
      "Accuracy on test set: 0.9019607843137255\n",
      "Model: KNN\n",
      "Accuracy Score: 0.9019607843137255\n",
      "Confusion Matrix:\n",
      " [[ 2  0  0  0  0]\n",
      " [ 0  5  0  1  0]\n",
      " [ 0  2  7  1  0]\n",
      " [ 0  0  0 12  0]\n",
      " [ 0  0  0  1 20]]\n",
      "Classification Report:\n",
      "               precision    recall  f1-score   support\n",
      "\n",
      "           1       1.00      1.00      1.00         2\n",
      "           2       0.71      0.83      0.77         6\n",
      "           3       1.00      0.70      0.82        10\n",
      "           4       0.80      1.00      0.89        12\n",
      "           5       1.00      0.95      0.98        21\n",
      "\n",
      "    accuracy                           0.90        51\n",
      "   macro avg       0.90      0.90      0.89        51\n",
      "weighted avg       0.92      0.90      0.90        51\n",
      "\n",
      "------------------------------------------------------\n"
     ]
    }
   ],
   "source": [
    "# Using optimized model from GridSearchCV to fit the training data\n",
    "grid_search_knn.fit(X_train_resampled_f_s, y_train_resampled_f_s)\n",
    "\n",
    "print(\"Best parameters:\", grid_search_knn.best_params_)\n",
    "print(\"Best cross-validated score:\", grid_search_knn.best_score_)\n",
    "\n",
    "# Evaluate the best model found by GridSearchCV on the test set\n",
    "best_model = grid_search_knn.best_estimator_\n",
    "knn_pred_resampled_f_s = best_model.predict(X_test_f)\n",
    "print(\"Accuracy on test set:\", accuracy_score(y_test_f, knn_pred_resampled_f_s))\n",
    "\n",
    "# Evaluation\n",
    "def evaluate_model(y_test, predictions, model_name):\n",
    "    print(f\"Model: {model_name}\")\n",
    "    print(\"Accuracy Score:\", accuracy_score(y_test, predictions))\n",
    "    print(\"Confusion Matrix:\\n\", confusion_matrix(y_test, predictions))\n",
    "    print(\"Classification Report:\\n\", classification_report(y_test, predictions))\n",
    "    print(\"------------------------------------------------------\")\n",
    "\n",
    "\n",
    "evaluate_model(y_test_f, knn_pred_resampled_f_s, \"KNN\")"
   ]
  }
 ],
 "metadata": {
  "kernelspec": {
   "display_name": "base",
   "language": "python",
   "name": "python3"
  },
  "language_info": {
   "codemirror_mode": {
    "name": "ipython",
    "version": 3
   },
   "file_extension": ".py",
   "mimetype": "text/x-python",
   "name": "python",
   "nbconvert_exporter": "python",
   "pygments_lexer": "ipython3",
   "version": "3.12.4"
  }
 },
 "nbformat": 4,
 "nbformat_minor": 2
}
