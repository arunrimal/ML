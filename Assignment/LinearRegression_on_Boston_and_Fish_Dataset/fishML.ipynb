{
 "cells": [
  {
   "cell_type": "code",
   "execution_count": 1,
   "metadata": {},
   "outputs": [],
   "source": [
    "# Import libraries\n",
    "import pandas as pd\n",
    "import matplotlib.pyplot as plt\n",
    "import seaborn as sns"
   ]
  },
  {
   "cell_type": "code",
   "execution_count": 2,
   "metadata": {},
   "outputs": [
    {
     "data": {
      "text/html": [
       "<div>\n",
       "<style scoped>\n",
       "    .dataframe tbody tr th:only-of-type {\n",
       "        vertical-align: middle;\n",
       "    }\n",
       "\n",
       "    .dataframe tbody tr th {\n",
       "        vertical-align: top;\n",
       "    }\n",
       "\n",
       "    .dataframe thead th {\n",
       "        text-align: right;\n",
       "    }\n",
       "</style>\n",
       "<table border=\"1\" class=\"dataframe\">\n",
       "  <thead>\n",
       "    <tr style=\"text-align: right;\">\n",
       "      <th></th>\n",
       "      <th>Species</th>\n",
       "      <th>Weight</th>\n",
       "      <th>Length1</th>\n",
       "      <th>Length2</th>\n",
       "      <th>Length3</th>\n",
       "      <th>Height</th>\n",
       "      <th>Width</th>\n",
       "    </tr>\n",
       "  </thead>\n",
       "  <tbody>\n",
       "    <tr>\n",
       "      <th>0</th>\n",
       "      <td>Bream</td>\n",
       "      <td>242.0</td>\n",
       "      <td>23.2</td>\n",
       "      <td>25.4</td>\n",
       "      <td>30.0</td>\n",
       "      <td>11.5200</td>\n",
       "      <td>4.0200</td>\n",
       "    </tr>\n",
       "    <tr>\n",
       "      <th>1</th>\n",
       "      <td>Bream</td>\n",
       "      <td>290.0</td>\n",
       "      <td>24.0</td>\n",
       "      <td>26.3</td>\n",
       "      <td>31.2</td>\n",
       "      <td>12.4800</td>\n",
       "      <td>4.3056</td>\n",
       "    </tr>\n",
       "    <tr>\n",
       "      <th>2</th>\n",
       "      <td>Bream</td>\n",
       "      <td>340.0</td>\n",
       "      <td>23.9</td>\n",
       "      <td>26.5</td>\n",
       "      <td>31.1</td>\n",
       "      <td>12.3778</td>\n",
       "      <td>4.6961</td>\n",
       "    </tr>\n",
       "    <tr>\n",
       "      <th>3</th>\n",
       "      <td>Bream</td>\n",
       "      <td>363.0</td>\n",
       "      <td>26.3</td>\n",
       "      <td>29.0</td>\n",
       "      <td>33.5</td>\n",
       "      <td>12.7300</td>\n",
       "      <td>4.4555</td>\n",
       "    </tr>\n",
       "    <tr>\n",
       "      <th>4</th>\n",
       "      <td>Bream</td>\n",
       "      <td>430.0</td>\n",
       "      <td>26.5</td>\n",
       "      <td>29.0</td>\n",
       "      <td>34.0</td>\n",
       "      <td>12.4440</td>\n",
       "      <td>5.1340</td>\n",
       "    </tr>\n",
       "  </tbody>\n",
       "</table>\n",
       "</div>"
      ],
      "text/plain": [
       "  Species  Weight  Length1  Length2  Length3   Height   Width\n",
       "0   Bream   242.0     23.2     25.4     30.0  11.5200  4.0200\n",
       "1   Bream   290.0     24.0     26.3     31.2  12.4800  4.3056\n",
       "2   Bream   340.0     23.9     26.5     31.1  12.3778  4.6961\n",
       "3   Bream   363.0     26.3     29.0     33.5  12.7300  4.4555\n",
       "4   Bream   430.0     26.5     29.0     34.0  12.4440  5.1340"
      ]
     },
     "execution_count": 2,
     "metadata": {},
     "output_type": "execute_result"
    }
   ],
   "source": [
    "# load csv file\n",
    "df = pd.read_csv(\"Fish.csv\")\n",
    "df.head(5)"
   ]
  },
  {
   "cell_type": "code",
   "execution_count": 3,
   "metadata": {},
   "outputs": [
    {
     "name": "stdout",
     "output_type": "stream",
     "text": [
      "<class 'pandas.core.frame.DataFrame'>\n",
      "RangeIndex: 159 entries, 0 to 158\n",
      "Data columns (total 7 columns):\n",
      " #   Column   Non-Null Count  Dtype  \n",
      "---  ------   --------------  -----  \n",
      " 0   Species  159 non-null    object \n",
      " 1   Weight   159 non-null    float64\n",
      " 2   Length1  159 non-null    float64\n",
      " 3   Length2  159 non-null    float64\n",
      " 4   Length3  159 non-null    float64\n",
      " 5   Height   159 non-null    float64\n",
      " 6   Width    159 non-null    float64\n",
      "dtypes: float64(6), object(1)\n",
      "memory usage: 8.8+ KB\n"
     ]
    },
    {
     "data": {
      "text/plain": [
       "Species    0\n",
       "Weight     0\n",
       "Length1    0\n",
       "Length2    0\n",
       "Length3    0\n",
       "Height     0\n",
       "Width      0\n",
       "dtype: int64"
      ]
     },
     "execution_count": 3,
     "metadata": {},
     "output_type": "execute_result"
    }
   ],
   "source": [
    "# checking shape, missing values etc\n",
    "df.Species.value_counts()\n",
    "df.info()\n",
    "df.shape\n",
    "df.isnull().sum()"
   ]
  },
  {
   "cell_type": "markdown",
   "metadata": {},
   "source": [
    "#### **Fit a predictive linear regression model to estimate weight of the fish from its length, height,and width**"
   ]
  },
  {
   "cell_type": "markdown",
   "metadata": {},
   "source": [
    "1. First Divide dataset into test and train based on the feature and target.\n",
    "2. Provided target variable is \"Weight\" and Feature variables as Length, Height and Width.\n",
    "3. Feature scaling is required to bring the values is acceptable range using Z-transform.\n",
    "4. It may also require Dimentionality reduction as dataset contains three length features.\n"
   ]
  },
  {
   "cell_type": "code",
   "execution_count": 4,
   "metadata": {},
   "outputs": [
    {
     "data": {
      "text/html": [
       "<div>\n",
       "<style scoped>\n",
       "    .dataframe tbody tr th:only-of-type {\n",
       "        vertical-align: middle;\n",
       "    }\n",
       "\n",
       "    .dataframe tbody tr th {\n",
       "        vertical-align: top;\n",
       "    }\n",
       "\n",
       "    .dataframe thead th {\n",
       "        text-align: right;\n",
       "    }\n",
       "</style>\n",
       "<table border=\"1\" class=\"dataframe\">\n",
       "  <thead>\n",
       "    <tr style=\"text-align: right;\">\n",
       "      <th></th>\n",
       "      <th>Weight</th>\n",
       "      <th>Length1</th>\n",
       "      <th>Length2</th>\n",
       "      <th>Length3</th>\n",
       "      <th>Height</th>\n",
       "      <th>Width</th>\n",
       "    </tr>\n",
       "  </thead>\n",
       "  <tbody>\n",
       "    <tr>\n",
       "      <th>Weight</th>\n",
       "      <td>1.000000</td>\n",
       "      <td>0.915712</td>\n",
       "      <td>0.918618</td>\n",
       "      <td>0.923044</td>\n",
       "      <td>0.724345</td>\n",
       "      <td>0.886507</td>\n",
       "    </tr>\n",
       "    <tr>\n",
       "      <th>Length1</th>\n",
       "      <td>0.915712</td>\n",
       "      <td>1.000000</td>\n",
       "      <td>0.999517</td>\n",
       "      <td>0.992031</td>\n",
       "      <td>0.625378</td>\n",
       "      <td>0.867050</td>\n",
       "    </tr>\n",
       "    <tr>\n",
       "      <th>Length2</th>\n",
       "      <td>0.918618</td>\n",
       "      <td>0.999517</td>\n",
       "      <td>1.000000</td>\n",
       "      <td>0.994103</td>\n",
       "      <td>0.640441</td>\n",
       "      <td>0.873547</td>\n",
       "    </tr>\n",
       "    <tr>\n",
       "      <th>Length3</th>\n",
       "      <td>0.923044</td>\n",
       "      <td>0.992031</td>\n",
       "      <td>0.994103</td>\n",
       "      <td>1.000000</td>\n",
       "      <td>0.703409</td>\n",
       "      <td>0.878520</td>\n",
       "    </tr>\n",
       "    <tr>\n",
       "      <th>Height</th>\n",
       "      <td>0.724345</td>\n",
       "      <td>0.625378</td>\n",
       "      <td>0.640441</td>\n",
       "      <td>0.703409</td>\n",
       "      <td>1.000000</td>\n",
       "      <td>0.792881</td>\n",
       "    </tr>\n",
       "    <tr>\n",
       "      <th>Width</th>\n",
       "      <td>0.886507</td>\n",
       "      <td>0.867050</td>\n",
       "      <td>0.873547</td>\n",
       "      <td>0.878520</td>\n",
       "      <td>0.792881</td>\n",
       "      <td>1.000000</td>\n",
       "    </tr>\n",
       "  </tbody>\n",
       "</table>\n",
       "</div>"
      ],
      "text/plain": [
       "           Weight   Length1   Length2   Length3    Height     Width\n",
       "Weight   1.000000  0.915712  0.918618  0.923044  0.724345  0.886507\n",
       "Length1  0.915712  1.000000  0.999517  0.992031  0.625378  0.867050\n",
       "Length2  0.918618  0.999517  1.000000  0.994103  0.640441  0.873547\n",
       "Length3  0.923044  0.992031  0.994103  1.000000  0.703409  0.878520\n",
       "Height   0.724345  0.625378  0.640441  0.703409  1.000000  0.792881\n",
       "Width    0.886507  0.867050  0.873547  0.878520  0.792881  1.000000"
      ]
     },
     "execution_count": 4,
     "metadata": {},
     "output_type": "execute_result"
    }
   ],
   "source": [
    "#  First find the corelation matrix\n",
    "correlation_matrix = df.corr()\n",
    "correlation_matrix"
   ]
  },
  {
   "cell_type": "markdown",
   "metadata": {},
   "source": [
    "**Correlation martix** shows strong positive correlation with each other. \n",
    "Mainly, target variable \"Weight\" has strong correlation with all other features."
   ]
  },
  {
   "cell_type": "code",
   "execution_count": 5,
   "metadata": {},
   "outputs": [
    {
     "data": {
      "text/plain": [
       "<AxesSubplot:>"
      ]
     },
     "execution_count": 5,
     "metadata": {},
     "output_type": "execute_result"
    },
    {
     "data": {
      "image/png": "[encoded data removed]",
      "text/plain": [
       "<Figure size 576x432 with 2 Axes>"
      ]
     },
     "metadata": {
      "needs_background": "light"
     },
     "output_type": "display_data"
    }
   ],
   "source": [
    "# Ploting the heat map\n",
    "fig , ax = plt.subplots(figsize=(8,6))\n",
    "sns.heatmap(correlation_matrix, annot=True, annot_kws = {'size': 12})"
   ]
  },
  {
   "cell_type": "markdown",
   "metadata": {},
   "source": [
    "### **Task 1: Linear regression**"
   ]
  },
  {
   "cell_type": "code",
   "execution_count": 6,
   "metadata": {},
   "outputs": [],
   "source": [
    "# Importing libraries \n",
    "from sklearn.discriminant_analysis import StandardScaler\n",
    "from sklearn.model_selection import train_test_split\n",
    "import statsmodels.api as sm\n",
    "import sklearn as sk"
   ]
  },
  {
   "cell_type": "code",
   "execution_count": 7,
   "metadata": {},
   "outputs": [],
   "source": [
    "X= df.drop(columns=['Weight', 'Species'])\n",
    "y = df['Weight']"
   ]
  },
  {
   "cell_type": "code",
   "execution_count": 8,
   "metadata": {},
   "outputs": [],
   "source": [
    "# Split into train and test\n",
    "X_train, X_test, y_train, y_test =  train_test_split(X, y, test_size=0.2, random_state=42)"
   ]
  },
  {
   "cell_type": "code",
   "execution_count": 9,
   "metadata": {},
   "outputs": [],
   "source": [
    "# Add a constant to the feature set for OLS regression\n",
    "X_train_ols = sm.add_constant(X_train)\n",
    "X_test_ols = sm.add_constant(X_test)"
   ]
  },
  {
   "cell_type": "code",
   "execution_count": 10,
   "metadata": {},
   "outputs": [],
   "source": [
    "# Initialize and train models\n",
    "ols_model = sm.OLS(y_train, X_train_ols).fit()"
   ]
  },
  {
   "cell_type": "code",
   "execution_count": 11,
   "metadata": {},
   "outputs": [],
   "source": [
    "# Predict with the test data\n",
    "y_pred_ols = ols_model.predict(X_test_ols)"
   ]
  },
  {
   "cell_type": "code",
   "execution_count": 12,
   "metadata": {},
   "outputs": [
    {
     "name": "stdout",
     "output_type": "stream",
     "text": [
      "OLS Regression R^2 score: 0.8821\n",
      "OLS Regression MSE: 16763.8872\n",
      "\n"
     ]
    }
   ],
   "source": [
    "from sklearn.metrics import mean_squared_error, r2_score\n",
    "print(f\"OLS Regression R^2 score: {r2_score(y_test, y_pred_ols):.4f}\")\n",
    "print(f\"OLS Regression MSE: {mean_squared_error(y_test, y_pred_ols):.4f}\\n\")"
   ]
  },
  {
   "cell_type": "code",
   "execution_count": 13,
   "metadata": {},
   "outputs": [
    {
     "data": {
      "text/html": [
       "<table class=\"simpletable\">\n",
       "<caption>OLS Regression Results</caption>\n",
       "<tr>\n",
       "  <th>Dep. Variable:</th>         <td>Weight</td>      <th>  R-squared:         </th> <td>   0.884</td>\n",
       "</tr>\n",
       "<tr>\n",
       "  <th>Model:</th>                   <td>OLS</td>       <th>  Adj. R-squared:    </th> <td>   0.879</td>\n",
       "</tr>\n",
       "<tr>\n",
       "  <th>Method:</th>             <td>Least Squares</td>  <th>  F-statistic:       </th> <td>   184.2</td>\n",
       "</tr>\n",
       "<tr>\n",
       "  <th>Date:</th>             <td>Sun, 29 Sep 2024</td> <th>  Prob (F-statistic):</th> <td>8.10e-55</td>\n",
       "</tr>\n",
       "<tr>\n",
       "  <th>Time:</th>                 <td>12:35:18</td>     <th>  Log-Likelihood:    </th> <td> -787.66</td>\n",
       "</tr>\n",
       "<tr>\n",
       "  <th>No. Observations:</th>      <td>   127</td>      <th>  AIC:               </th> <td>   1587.</td>\n",
       "</tr>\n",
       "<tr>\n",
       "  <th>Df Residuals:</th>          <td>   121</td>      <th>  BIC:               </th> <td>   1604.</td>\n",
       "</tr>\n",
       "<tr>\n",
       "  <th>Df Model:</th>              <td>     5</td>      <th>                     </th>     <td> </td>   \n",
       "</tr>\n",
       "<tr>\n",
       "  <th>Covariance Type:</th>      <td>nonrobust</td>    <th>                     </th>     <td> </td>   \n",
       "</tr>\n",
       "</table>\n",
       "<table class=\"simpletable\">\n",
       "<tr>\n",
       "     <td></td>        <th>coef</th>     <th>std err</th>      <th>t</th>      <th>P>|t|</th>  <th>[0.025</th>    <th>0.975]</th>  \n",
       "</tr>\n",
       "<tr>\n",
       "  <th>const</th>   <td> -515.3057</td> <td>   34.226</td> <td>  -15.056</td> <td> 0.000</td> <td> -583.065</td> <td> -447.546</td>\n",
       "</tr>\n",
       "<tr>\n",
       "  <th>Length1</th> <td>   43.5353</td> <td>   47.315</td> <td>    0.920</td> <td> 0.359</td> <td>  -50.137</td> <td>  137.208</td>\n",
       "</tr>\n",
       "<tr>\n",
       "  <th>Length2</th> <td>    7.8218</td> <td>   48.891</td> <td>    0.160</td> <td> 0.873</td> <td>  -88.970</td> <td>  104.614</td>\n",
       "</tr>\n",
       "<tr>\n",
       "  <th>Length3</th> <td>  -25.2567</td> <td>   18.146</td> <td>   -1.392</td> <td> 0.167</td> <td>  -61.181</td> <td>   10.667</td>\n",
       "</tr>\n",
       "<tr>\n",
       "  <th>Height</th>  <td>   23.2289</td> <td>    9.384</td> <td>    2.475</td> <td> 0.015</td> <td>    4.652</td> <td>   41.806</td>\n",
       "</tr>\n",
       "<tr>\n",
       "  <th>Width</th>   <td>   27.0665</td> <td>   21.800</td> <td>    1.242</td> <td> 0.217</td> <td>  -16.093</td> <td>   70.226</td>\n",
       "</tr>\n",
       "</table>\n",
       "<table class=\"simpletable\">\n",
       "<tr>\n",
       "  <th>Omnibus:</th>       <td>20.933</td> <th>  Durbin-Watson:     </th> <td>   2.015</td>\n",
       "</tr>\n",
       "<tr>\n",
       "  <th>Prob(Omnibus):</th> <td> 0.000</td> <th>  Jarque-Bera (JB):  </th> <td>  30.028</td>\n",
       "</tr>\n",
       "<tr>\n",
       "  <th>Skew:</th>          <td> 0.844</td> <th>  Prob(JB):          </th> <td>3.02e-07</td>\n",
       "</tr>\n",
       "<tr>\n",
       "  <th>Kurtosis:</th>      <td> 4.680</td> <th>  Cond. No.          </th> <td>    335.</td>\n",
       "</tr>\n",
       "</table><br/><br/>Notes:<br/>[1] Standard Errors assume that the covariance matrix of the errors is correctly specified."
      ],
      "text/plain": [
       "<class 'statsmodels.iolib.summary.Summary'>\n",
       "\"\"\"\n",
       "                            OLS Regression Results                            \n",
       "==============================================================================\n",
       "Dep. Variable:                 Weight   R-squared:                       0.884\n",
       "Model:                            OLS   Adj. R-squared:                  0.879\n",
       "Method:                 Least Squares   F-statistic:                     184.2\n",
       "Date:                Sun, 29 Sep 2024   Prob (F-statistic):           8.10e-55\n",
       "Time:                        12:35:18   Log-Likelihood:                -787.66\n",
       "No. Observations:                 127   AIC:                             1587.\n",
       "Df Residuals:                     121   BIC:                             1604.\n",
       "Df Model:                           5                                         \n",
       "Covariance Type:            nonrobust                                         \n",
       "==============================================================================\n",
       "                 coef    std err          t      P>|t|      [0.025      0.975]\n",
       "------------------------------------------------------------------------------\n",
       "const       -515.3057     34.226    -15.056      0.000    -583.065    -447.546\n",
       "Length1       43.5353     47.315      0.920      0.359     -50.137     137.208\n",
       "Length2        7.8218     48.891      0.160      0.873     -88.970     104.614\n",
       "Length3      -25.2567     18.146     -1.392      0.167     -61.181      10.667\n",
       "Height        23.2289      9.384      2.475      0.015       4.652      41.806\n",
       "Width         27.0665     21.800      1.242      0.217     -16.093      70.226\n",
       "==============================================================================\n",
       "Omnibus:                       20.933   Durbin-Watson:                   2.015\n",
       "Prob(Omnibus):                  0.000   Jarque-Bera (JB):               30.028\n",
       "Skew:                           0.844   Prob(JB):                     3.02e-07\n",
       "Kurtosis:                       4.680   Cond. No.                         335.\n",
       "==============================================================================\n",
       "\n",
       "Notes:\n",
       "[1] Standard Errors assume that the covariance matrix of the errors is correctly specified.\n",
       "\"\"\""
      ]
     },
     "execution_count": 13,
     "metadata": {},
     "output_type": "execute_result"
    }
   ],
   "source": [
    "ols_model.summary()                         "
   ]
  },
  {
   "cell_type": "code",
   "execution_count": 14,
   "metadata": {},
   "outputs": [
    {
     "name": "stdout",
     "output_type": "stream",
     "text": [
      "\n",
      "OLS Regression Coefficients:\n",
      " const     -515.305651\n",
      "Length1     43.535265\n",
      "Length2      7.821796\n",
      "Length3    -25.256701\n",
      "Height      23.228912\n",
      "Width       27.066493\n",
      "dtype: float64\n"
     ]
    }
   ],
   "source": [
    "print(\"\\nOLS Regression Coefficients:\\n\", ols_model.params)"
   ]
  },
  {
   "cell_type": "markdown",
   "metadata": {},
   "source": [
    "### **Report the coefficients values by using the standard Least Square Estimates**\n",
    "\n",
    "**From the above summary of OLS regression model, the coefficients are as follows:**\n",
    "\n",
    "- Constant ($\\beta_0$​) = -515.3057\n",
    "- Length1 ($\\beta_1$​) = 43.5353\n",
    "- Length2 ($\\beta_2$​) = 7.8218\n",
    "- Length3 ($\\beta_3$​) = -25.2567\n",
    "\n",
    "---\n",
    "\n",
    "### What is the standard error of the estimated coefficients and R-squared term?\n",
    "\n",
    "**Standard Errors are as follows:**\n",
    "\n",
    "- Constant: 34.226  \n",
    "- Length1: 47.315  \n",
    "- Length2: 48.891  \n",
    "- Length3: 18.146  \n",
    "\n",
    "**R-squared term:** 0.884\n",
    "\n",
    "---\n",
    "\n",
    "### R-squared and MSE of OLS using sklearn:\n",
    "\n",
    "- R-squared term =  0.8821\n",
    "- MSE term =  16763.8872\n"
   ]
  },
  {
   "cell_type": "code",
   "execution_count": 15,
   "metadata": {},
   "outputs": [],
   "source": [
    "# First perform feature scaling \n",
    "scalar = StandardScaler()\n",
    "X_train_scaled = scalar.fit_transform(X_train)\n",
    "X_test_scaled = scalar.transform(X_test)"
   ]
  },
  {
   "cell_type": "code",
   "execution_count": 16,
   "metadata": {},
   "outputs": [
    {
     "name": "stdout",
     "output_type": "stream",
     "text": [
      " R^2 score: 0.8821,  MSE value: 16763.8872 \n"
     ]
    }
   ],
   "source": [
    "# Since column contains many length column, perform PCA\n",
    "from sklearn.linear_model import LinearRegression\n",
    "from sklearn.metrics import r2_score, mean_squared_error\n",
    "\n",
    "\n",
    "linear_regressor = LinearRegression().fit(X_train_scaled, y_train)\n",
    "y_pred_linear = linear_regressor.predict(X_test_scaled)\n",
    "\n",
    "# for idx, y in enumerate(y_test):\n",
    "#     print(f\" Real : {y}, Predicted : {predict_linear[idx]}\")\n",
    "\n",
    "# Find the R^2 and MSE\n",
    "r_square_linear =r2_score(y_test, y_pred_linear) \n",
    "mse_linear = mean_squared_error(y_test, y_pred_linear)\n",
    "print(f\" R^2 score: {r_square_linear:.4f},  MSE value: {mse_linear:.4f} \")\n"
   ]
  },
  {
   "cell_type": "code",
   "execution_count": 17,
   "metadata": {},
   "outputs": [
    {
     "data": {
      "text/plain": [
       "(159, 3)"
      ]
     },
     "execution_count": 17,
     "metadata": {},
     "output_type": "execute_result"
    }
   ],
   "source": [
    "# Performing Principle Component Analysis(PCA)\n",
    "from sklearn.decomposition import PCA\n",
    "pca = PCA(3)     # 3 refers to 3 components or feature\n",
    "X_pca = pca.fit_transform(X)\n",
    "X_pca.shape"
   ]
  },
  {
   "cell_type": "code",
   "execution_count": 18,
   "metadata": {},
   "outputs": [
    {
     "name": "stdout",
     "output_type": "stream",
     "text": [
      " R^2 score after PCA: 0.8781,  MSE value after PCA: 17343.8112 \n"
     ]
    }
   ],
   "source": [
    "#  Again train model using linear regression but this time use X_pca\n",
    "\n",
    "# Split into train and test\n",
    "X_pca_train, X_pca_test, y_train, y_test =  train_test_split(X_pca, y, test_size=0.2, random_state=42)\n",
    "\n",
    "# First perform feature scaling \n",
    "scalar = StandardScaler()\n",
    "X_pca_train_scaled = scalar.fit_transform(X_pca_train)\n",
    "X_pca_test_scaled = scalar.transform(X_pca_test)\n",
    "\n",
    "linear_regressor = LinearRegression().fit(X_pca_train_scaled, y_train)\n",
    "y_predict_linear = linear_regressor.predict(X_pca_test_scaled)\n",
    "\n",
    "# for idx, y in enumerate(y_test):\n",
    "#     print(f\" Real : {y}, Predicted : {predict_linear[idx]}\")\n",
    "\n",
    "# Find the R^2 and MSE\n",
    "r_square_linear =r2_score(y_test, y_predict_linear) \n",
    "mse_linear = mean_squared_error(y_test, y_predict_linear)\n",
    "# r_square_linear, mse_linear\n",
    "print(f\" R^2 score after PCA: {r_square_linear:.4f},  MSE value after PCA: {mse_linear:.4f} \")"
   ]
  },
  {
   "cell_type": "markdown",
   "metadata": {},
   "source": [
    "### **Task 2: Ridge and Lasso Regression**"
   ]
  },
  {
   "cell_type": "code",
   "execution_count": 19,
   "metadata": {},
   "outputs": [],
   "source": [
    "from sklearn.linear_model import RidgeCV, LassoCV\n",
    "ridge_cv = RidgeCV(alphas=[0.1, 1.0, 10.0, 100.0]).fit(X_train_scaled, y_train)\n",
    "lasso_cv = LassoCV(alphas=[0.001, 0.01, 0.1, 1.0, 10.0], max_iter= 50000).fit(X_train_scaled, y_train)"
   ]
  },
  {
   "cell_type": "code",
   "execution_count": 20,
   "metadata": {},
   "outputs": [],
   "source": [
    "# Predict with the test data\n",
    "y_pred_ridge = ridge_cv.predict(X_test_scaled)\n",
    "y_pred_lasso = lasso_cv.predict(X_test_scaled)"
   ]
  },
  {
   "cell_type": "code",
   "execution_count": 21,
   "metadata": {},
   "outputs": [
    {
     "name": "stdout",
     "output_type": "stream",
     "text": [
      "Ridge Regression R^2 score: 0.8770\n",
      "Ridge Regression MSE: 17488.5753\n",
      "\n",
      "Lasso Regression R^2 score: 0.8773\n",
      "Lasso Regression MSE: 17458.6532\n",
      "\n"
     ]
    }
   ],
   "source": [
    "from sklearn.metrics import mean_squared_error, r2_score\n",
    "\n",
    "# Calculate and print R^2 score and MSE for each model\n",
    "\n",
    "models = ['Ridge', 'Lasso']\n",
    "predictions = [y_pred_ridge, y_pred_lasso]\n",
    "for name, y_pred in zip(models, predictions):\n",
    "    print(f\"{name} Regression R^2 score: {r2_score(y_test, y_pred):.4f}\")\n",
    "    print(f\"{name} Regression MSE: {mean_squared_error(y_test, y_pred):.4f}\\n\")"
   ]
  },
  {
   "cell_type": "code",
   "execution_count": 22,
   "metadata": {},
   "outputs": [
    {
     "name": "stdout",
     "output_type": "stream",
     "text": [
      "\n",
      "OLS Regression Coefficients:\n",
      " const     -515.305651\n",
      "Length1     43.535265\n",
      "Length2      7.821796\n",
      "Length3    -25.256701\n",
      "Height      23.228912\n",
      "Width       27.066493\n",
      "dtype: float64\n",
      "\n",
      "Linear Regression Coefficients:\n",
      " [328.72727521 -36.03906623  41.08583983]\n",
      "\n",
      "Ridge Regression Coefficients:\n",
      " [83.29023683 80.60503657 64.91737168 35.7986499  77.01514167]\n",
      "\n",
      "Lasso Regression Coefficients:\n",
      " [229.96344143   0.           0.          44.01533366  75.78051359]\n"
     ]
    }
   ],
   "source": [
    "# Print coefficients for each model\n",
    "print(\"\\nOLS Regression Coefficients:\\n\", ols_model.params)\n",
    "print(\"\\nLinear Regression Coefficients:\\n\", linear_regressor.coef_)\n",
    "print(\"\\nRidge Regression Coefficients:\\n\", ridge_cv.coef_)\n",
    "print(\"\\nLasso Regression Coefficients:\\n\", lasso_cv.coef_)"
   ]
  },
  {
   "cell_type": "code",
   "execution_count": 23,
   "metadata": {},
   "outputs": [
    {
     "data": {
      "image/png": "[encoded data removed]",
      "text/plain": [
       "<Figure size 1080x720 with 4 Axes>"
      ]
     },
     "metadata": {
      "needs_background": "light"
     },
     "output_type": "display_data"
    }
   ],
   "source": [
    "# Plotting Actual vs Predicted prices for all models\n",
    "fig, axs = plt.subplots(2, 2, figsize=(15, 10))\n",
    "axs = axs.flatten()\n",
    "\n",
    "models = ['OLS', 'Linear', 'Ridge', 'Lasso']\n",
    "predictions = [y_pred_ols, y_pred_linear, y_pred_ridge, y_pred_lasso]\n",
    "\n",
    "for i, (name, y_pred) in enumerate(zip(models, predictions)):\n",
    "    axs[i].scatter(y_test, y_pred, color='blue', edgecolor='k', alpha=0.7, label=f'{name} Predicted vs. Actual')\n",
    "    axs[i].plot([y_test.min(), y_test.max()], [y_test.min(), y_test.max()], 'k--', lw=2)\n",
    "    axs[i].set_xlabel('Actual Weight')\n",
    "    axs[i].set_ylabel('Predicted Weight')\n",
    "    axs[i].set_title(f'{name} Regression: Predicted vs Actual Weight')\n",
    "    axs[i].legend()\n",
    "\n",
    "plt.tight_layout()\n",
    "plt.show()"
   ]
  }
 ],
 "metadata": {
  "kernelspec": {
   "display_name": "mlenv",
   "language": "python",
   "name": "python3"
  },
  "language_info": {
   "codemirror_mode": {
    "name": "ipython",
    "version": 3
   },
   "file_extension": ".py",
   "mimetype": "text/x-python",
   "name": "python",
   "nbconvert_exporter": "python",
   "pygments_lexer": "ipython3",
   "version": "3.6.13"
  }
 },
 "nbformat": 4,
 "nbformat_minor": 2
}
